{
  "cells": [
    {
      "cell_type": "markdown",
      "metadata": {
        "colab_type": "text",
        "id": "view-in-github"
      },
      "source": [
        "<a href=\"https://colab.research.google.com/github/nikocarba/Python/blob/main/Copia_de_Ejercicio_T%C3%A9cnico.ipynb\" target=\"_parent\"><img src=\"https://colab.research.google.com/assets/colab-badge.svg\" alt=\"Open In Colab\"/></a>"
      ]
    },
    {
      "cell_type": "markdown",
      "metadata": {
        "id": "zYfoVzRo3Phv"
      },
      "source": [
        "# Ejercicion Técnico"
      ]
    },
    {
      "cell_type": "markdown",
      "metadata": {
        "id": "LilKx4Fk3Y8_"
      },
      "source": [
        "A continuación presentaremos algunos ejercicios a desarrollar en Python. Cada ejercicio es independiente del otro, sin embargo, tengan cuidado con el nombre de las variables (para esta herramienta, todo lo que escriban es parte del mismo \"programa\")\n",
        "\n",
        "+info: https://colab.research.google.com/notebooks/intro.ipynb"
      ]
    },
    {
      "cell_type": "markdown",
      "metadata": {
        "id": "U75doMVV4Ntw"
      },
      "source": [
        "## Tu nombre villano"
      ]
    },
    {
      "cell_type": "markdown",
      "metadata": {
        "id": "taAWqLh66Hr7"
      },
      "source": [
        "Creá una función que devuelva tu nombre en \"villano\" basada en la fecha de tu cumpleaños (se asume que la fecha recibida es una fecha válida) y tu nombre. Las reglas para la conversión son las siguientes:\n",
        "\n",
        "**Nombre -> Mes de nacimiento**\n",
        "\n",
        "* Enero -> \"The Evil\"\n",
        "* Febrero -> \"The Vile\"\n",
        "* Marzo -> \"The Cruel\"\n",
        "* Abril -> \"The Trashy\"\n",
        "* Mayo -> \"The Despicable\"\n",
        "* Junio -> \"The Embarrassing\"\n",
        "* Julio -> \"The Disreputable\"\n",
        "* Agosto -> \"The Atrocious\"\n",
        "* Septiembre -> \"The Twirling\"\n",
        "* Octubre -> \"The Orange\"\n",
        "* Noviembre -> \"The Terrifying\"\n",
        "* Diciembre -> \"The Awkward\"\n",
        "\n",
        "**Segundo nombre -> Tu nombre de atrás hacia adelante**\n",
        "\n",
        "Ejemplo:\n",
        "* Sofia -> Aifos\n",
        "\n",
        "**Apellido -> Último dígito del día de Nacimiento**\n",
        "\n",
        "* 0 -> \"Mustache\"\n",
        "* 1 -> \"Pickle\"\n",
        "* 2 -> \"Hood Ornament\"\n",
        "* 3 -> \"Raisin\"\n",
        "* 4 -> \"Recycling Bin\"\n",
        "* 5 -> \"Potato\"\n",
        "* 6 -> \"Tomato\"\n",
        "* 7 -> \"House Cat\"\n",
        "* 8 -> \"Teaspoon\"\n",
        "* 9 -> \"Laundry Basket\""
      ]
    },
    {
      "cell_type": "code",
      "execution_count": 2,
      "metadata": {
        "colab": {
          "base_uri": "https://localhost:8080/",
          "height": 35
        },
        "id": "N64Hc2ZXnAKY",
        "outputId": "04e24e00-f24b-4916-de39-0f7ff841dd92"
      },
      "outputs": [],
      "source": [
        "import datetime\n",
        "\n",
        "mapeo_mes = {\n",
        "  1 : \"The Evil\",\n",
        "  2 : \"The Vile\",\n",
        "  3 : \"The Cruel\",\n",
        "  4 : \"The Trashy\",\n",
        "  5 : \"The Despicable\",\n",
        "  6 : \"The Embarrassing\",\n",
        "  7 : \"The Disreputable\",\n",
        "  8 : \"The Atrocious\",\n",
        "  9 : \"The Twirling\",\n",
        "  10 : \"The Orange\",\n",
        "  11 : \"The Terrifying\",\n",
        "  12 : \"The Awkward\"\n",
        "}\n",
        "\n",
        "mapeo_digito = {\n",
        "  '0' : \"Mustache\",\n",
        "  '1' : \"Pickle\",\n",
        "  '2' : \"Hood Ornament\",\n",
        "  '3' : \"Raisin\",\n",
        "  '4' : \"Recycling Bin\",\n",
        "  '5' : \"Potato\",\n",
        "  '6' : \"Tomato\",\n",
        "  '7' : \"House Cat\",\n",
        "  '8' : \"Teaspoon\",\n",
        "  '9' : \"Laundry Basket\"    \n",
        "}\n",
        "\n",
        "def get_villain_name(name, birthdate):\n",
        "  return mapeo_mes[birthdate.month] + ' ' + name[::-1].capitalize() + ' ' + mapeo_digito[str(birthdate)[-1]]"
      ]
    },
    {
      "cell_type": "markdown",
      "metadata": {
        "id": "scAUKpt1Hvi9"
      },
      "source": [
        "Pruebas:"
      ]
    },
    {
      "cell_type": "code",
      "execution_count": 3,
      "metadata": {
        "colab": {
          "base_uri": "https://localhost:8080/"
        },
        "id": "mlioBCOO6OZa",
        "outputId": "65bf6479-b8fc-40e3-e25e-581701ace734"
      },
      "outputs": [
        {
          "name": "stdout",
          "output_type": "stream",
          "text": [
            "True\n",
            "True\n",
            "True\n"
          ]
        }
      ],
      "source": [
        "print(get_villain_name('Sofia', datetime.date(2000,1,1)) == \"The Evil Aifos Pickle\")\n",
        "print(get_villain_name('Tomi', datetime.date(1998,3,1)) == \"The Cruel Imot Pickle\")\n",
        "print(get_villain_name('Cota', datetime.date(1996,8,25)) == \"The Atrocious Atoc Potato\")"
      ]
    },
    {
      "cell_type": "markdown",
      "metadata": {
        "id": "LEUHaMAg7gUb"
      },
      "source": [
        "## Ahorcado"
      ]
    },
    {
      "cell_type": "markdown",
      "metadata": {
        "id": "B2cqwqVY7nPr"
      },
      "source": [
        "https://es.wikipedia.org/wiki/Ahorcado_(juego)\n",
        "\n",
        "En este punto se pide implementar una versión del conocido juego *Ahorcado*.\n",
        "El programa debe cumplir los siguientes puntos:\n",
        "1. Primero pide a un jugador la palabra a adivinar por input.\n",
        "2. Después toma las letras que elige el otro jugador por input también.\n",
        "3. El jugador tiene 5 vidas, si las pierde todas, pierde.\n",
        "4. Se tiene que ir mostrando el avance del juego, mostrando las letras ya probadas y como se va completando la palabra a adivinar\n",
        "\n",
        "Por ejemplo: \n",
        ">* `letras usadas: a,o,p` \n",
        ">* `estado de la palabra a adivinar: _o_a`"
      ]
    },
    {
      "cell_type": "code",
      "execution_count": 17,
      "metadata": {
        "colab": {
          "base_uri": "https://localhost:8080/",
          "height": 714
        },
        "id": "FzcV9IV-7nnu",
        "outputId": "e52e45da-98fe-4570-e5c8-00092cf228f3"
      },
      "outputs": [
        {
          "name": "stdout",
          "output_type": "stream",
          "text": [
            "Ingrese palabra: \n"
          ]
        },
        {
          "ename": "KeyboardInterrupt",
          "evalue": "Interrupted by user",
          "output_type": "error",
          "traceback": [
            "\u001b[1;31m---------------------------------------------------------------------------\u001b[0m",
            "\u001b[1;31mKeyboardInterrupt\u001b[0m                         Traceback (most recent call last)",
            "\u001b[1;32md:\\Users\\Nicolas\\Desktop\\Repositorios\\Python\\Ejercicio tecnico\\Ejercicio_Técnico.ipynb Cell 11'\u001b[0m in \u001b[0;36m<cell line: 5>\u001b[1;34m()\u001b[0m\n\u001b[0;32m      <a href='vscode-notebook-cell:/d%3A/Users/Nicolas/Desktop/Repositorios/Python/Ejercicio%20tecnico/Ejercicio_T%C3%A9cnico.ipynb#ch0000010?line=0'>1</a>\u001b[0m \u001b[39mimport\u001b[39;00m \u001b[39mre\u001b[39;00m\n\u001b[0;32m      <a href='vscode-notebook-cell:/d%3A/Users/Nicolas/Desktop/Repositorios/Python/Ejercicio%20tecnico/Ejercicio_T%C3%A9cnico.ipynb#ch0000010?line=2'>3</a>\u001b[0m \u001b[39mprint\u001b[39m(\u001b[39m'\u001b[39m\u001b[39mIngrese palabra: \u001b[39m\u001b[39m'\u001b[39m)\n\u001b[1;32m----> <a href='vscode-notebook-cell:/d%3A/Users/Nicolas/Desktop/Repositorios/Python/Ejercicio%20tecnico/Ejercicio_T%C3%A9cnico.ipynb#ch0000010?line=4'>5</a>\u001b[0m word \u001b[39m=\u001b[39m \u001b[39minput\u001b[39;49m()\u001b[39m.\u001b[39mlower()\n\u001b[0;32m      <a href='vscode-notebook-cell:/d%3A/Users/Nicolas/Desktop/Repositorios/Python/Ejercicio%20tecnico/Ejercicio_T%C3%A9cnico.ipynb#ch0000010?line=5'>6</a>\u001b[0m letter_state \u001b[39m=\u001b[39m {x:\u001b[39m0\u001b[39m \u001b[39mfor\u001b[39;00m x \u001b[39min\u001b[39;00m word}\n\u001b[0;32m      <a href='vscode-notebook-cell:/d%3A/Users/Nicolas/Desktop/Repositorios/Python/Ejercicio%20tecnico/Ejercicio_T%C3%A9cnico.ipynb#ch0000010?line=6'>7</a>\u001b[0m letters \u001b[39m=\u001b[39m [\u001b[39m'\u001b[39m\u001b[39m_\u001b[39m\u001b[39m'\u001b[39m \u001b[39mfor\u001b[39;00m _ \u001b[39min\u001b[39;00m \u001b[39mrange\u001b[39m(\u001b[39mlen\u001b[39m(word))]\n",
            "File \u001b[1;32m~\\AppData\\Local\\Packages\\PythonSoftwareFoundation.Python.3.10_qbz5n2kfra8p0\\LocalCache\\local-packages\\Python310\\site-packages\\ipykernel\\kernelbase.py:1076\u001b[0m, in \u001b[0;36mKernel.raw_input\u001b[1;34m(self, prompt)\u001b[0m\n\u001b[0;32m   <a href='file:///c%3A/Users/Administrador/AppData/Local/Packages/PythonSoftwareFoundation.Python.3.10_qbz5n2kfra8p0/LocalCache/local-packages/Python310/site-packages/ipykernel/kernelbase.py?line=1071'>1072</a>\u001b[0m \u001b[39mif\u001b[39;00m \u001b[39mnot\u001b[39;00m \u001b[39mself\u001b[39m\u001b[39m.\u001b[39m_allow_stdin:\n\u001b[0;32m   <a href='file:///c%3A/Users/Administrador/AppData/Local/Packages/PythonSoftwareFoundation.Python.3.10_qbz5n2kfra8p0/LocalCache/local-packages/Python310/site-packages/ipykernel/kernelbase.py?line=1072'>1073</a>\u001b[0m     \u001b[39mraise\u001b[39;00m StdinNotImplementedError(\n\u001b[0;32m   <a href='file:///c%3A/Users/Administrador/AppData/Local/Packages/PythonSoftwareFoundation.Python.3.10_qbz5n2kfra8p0/LocalCache/local-packages/Python310/site-packages/ipykernel/kernelbase.py?line=1073'>1074</a>\u001b[0m         \u001b[39m\"\u001b[39m\u001b[39mraw_input was called, but this frontend does not support input requests.\u001b[39m\u001b[39m\"\u001b[39m\n\u001b[0;32m   <a href='file:///c%3A/Users/Administrador/AppData/Local/Packages/PythonSoftwareFoundation.Python.3.10_qbz5n2kfra8p0/LocalCache/local-packages/Python310/site-packages/ipykernel/kernelbase.py?line=1074'>1075</a>\u001b[0m     )\n\u001b[1;32m-> <a href='file:///c%3A/Users/Administrador/AppData/Local/Packages/PythonSoftwareFoundation.Python.3.10_qbz5n2kfra8p0/LocalCache/local-packages/Python310/site-packages/ipykernel/kernelbase.py?line=1075'>1076</a>\u001b[0m \u001b[39mreturn\u001b[39;00m \u001b[39mself\u001b[39;49m\u001b[39m.\u001b[39;49m_input_request(\n\u001b[0;32m   <a href='file:///c%3A/Users/Administrador/AppData/Local/Packages/PythonSoftwareFoundation.Python.3.10_qbz5n2kfra8p0/LocalCache/local-packages/Python310/site-packages/ipykernel/kernelbase.py?line=1076'>1077</a>\u001b[0m     \u001b[39mstr\u001b[39;49m(prompt),\n\u001b[0;32m   <a href='file:///c%3A/Users/Administrador/AppData/Local/Packages/PythonSoftwareFoundation.Python.3.10_qbz5n2kfra8p0/LocalCache/local-packages/Python310/site-packages/ipykernel/kernelbase.py?line=1077'>1078</a>\u001b[0m     \u001b[39mself\u001b[39;49m\u001b[39m.\u001b[39;49m_parent_ident[\u001b[39m\"\u001b[39;49m\u001b[39mshell\u001b[39;49m\u001b[39m\"\u001b[39;49m],\n\u001b[0;32m   <a href='file:///c%3A/Users/Administrador/AppData/Local/Packages/PythonSoftwareFoundation.Python.3.10_qbz5n2kfra8p0/LocalCache/local-packages/Python310/site-packages/ipykernel/kernelbase.py?line=1078'>1079</a>\u001b[0m     \u001b[39mself\u001b[39;49m\u001b[39m.\u001b[39;49mget_parent(\u001b[39m\"\u001b[39;49m\u001b[39mshell\u001b[39;49m\u001b[39m\"\u001b[39;49m),\n\u001b[0;32m   <a href='file:///c%3A/Users/Administrador/AppData/Local/Packages/PythonSoftwareFoundation.Python.3.10_qbz5n2kfra8p0/LocalCache/local-packages/Python310/site-packages/ipykernel/kernelbase.py?line=1079'>1080</a>\u001b[0m     password\u001b[39m=\u001b[39;49m\u001b[39mFalse\u001b[39;49;00m,\n\u001b[0;32m   <a href='file:///c%3A/Users/Administrador/AppData/Local/Packages/PythonSoftwareFoundation.Python.3.10_qbz5n2kfra8p0/LocalCache/local-packages/Python310/site-packages/ipykernel/kernelbase.py?line=1080'>1081</a>\u001b[0m )\n",
            "File \u001b[1;32m~\\AppData\\Local\\Packages\\PythonSoftwareFoundation.Python.3.10_qbz5n2kfra8p0\\LocalCache\\local-packages\\Python310\\site-packages\\ipykernel\\kernelbase.py:1121\u001b[0m, in \u001b[0;36mKernel._input_request\u001b[1;34m(self, prompt, ident, parent, password)\u001b[0m\n\u001b[0;32m   <a href='file:///c%3A/Users/Administrador/AppData/Local/Packages/PythonSoftwareFoundation.Python.3.10_qbz5n2kfra8p0/LocalCache/local-packages/Python310/site-packages/ipykernel/kernelbase.py?line=1117'>1118</a>\u001b[0m             \u001b[39mbreak\u001b[39;00m\n\u001b[0;32m   <a href='file:///c%3A/Users/Administrador/AppData/Local/Packages/PythonSoftwareFoundation.Python.3.10_qbz5n2kfra8p0/LocalCache/local-packages/Python310/site-packages/ipykernel/kernelbase.py?line=1118'>1119</a>\u001b[0m \u001b[39mexcept\u001b[39;00m \u001b[39mKeyboardInterrupt\u001b[39;00m:\n\u001b[0;32m   <a href='file:///c%3A/Users/Administrador/AppData/Local/Packages/PythonSoftwareFoundation.Python.3.10_qbz5n2kfra8p0/LocalCache/local-packages/Python310/site-packages/ipykernel/kernelbase.py?line=1119'>1120</a>\u001b[0m     \u001b[39m# re-raise KeyboardInterrupt, to truncate traceback\u001b[39;00m\n\u001b[1;32m-> <a href='file:///c%3A/Users/Administrador/AppData/Local/Packages/PythonSoftwareFoundation.Python.3.10_qbz5n2kfra8p0/LocalCache/local-packages/Python310/site-packages/ipykernel/kernelbase.py?line=1120'>1121</a>\u001b[0m     \u001b[39mraise\u001b[39;00m \u001b[39mKeyboardInterrupt\u001b[39;00m(\u001b[39m\"\u001b[39m\u001b[39mInterrupted by user\u001b[39m\u001b[39m\"\u001b[39m) \u001b[39mfrom\u001b[39;00m \u001b[39mNone\u001b[39m\n\u001b[0;32m   <a href='file:///c%3A/Users/Administrador/AppData/Local/Packages/PythonSoftwareFoundation.Python.3.10_qbz5n2kfra8p0/LocalCache/local-packages/Python310/site-packages/ipykernel/kernelbase.py?line=1121'>1122</a>\u001b[0m \u001b[39mexcept\u001b[39;00m \u001b[39mException\u001b[39;00m:\n\u001b[0;32m   <a href='file:///c%3A/Users/Administrador/AppData/Local/Packages/PythonSoftwareFoundation.Python.3.10_qbz5n2kfra8p0/LocalCache/local-packages/Python310/site-packages/ipykernel/kernelbase.py?line=1122'>1123</a>\u001b[0m     \u001b[39mself\u001b[39m\u001b[39m.\u001b[39mlog\u001b[39m.\u001b[39mwarning(\u001b[39m\"\u001b[39m\u001b[39mInvalid Message:\u001b[39m\u001b[39m\"\u001b[39m, exc_info\u001b[39m=\u001b[39m\u001b[39mTrue\u001b[39;00m)\n",
            "\u001b[1;31mKeyboardInterrupt\u001b[0m: Interrupted by user"
          ]
        }
      ],
      "source": [
        "import re\n",
        "\n",
        "print('Ingrese palabra: ')\n",
        "\n",
        "word = input().lower()\n",
        "letter_state = {x:0 for x in word}\n",
        "letters = ['_' for _ in range(len(word))]\n",
        "\n",
        "used_letters = set()\n",
        "lives = 5\n",
        "\n",
        "def find_index(word, ch):     \n",
        "  return [i for i, ltr in enumerate(word) if ltr == ch]\n",
        "\n",
        "while True:\n",
        "  print('Ingrese letra: ')\n",
        "  letter_input = input().lower().strip()\n",
        "\n",
        "  if not re.fullmatch(r\"[a-zA-Z]\", letter_input):\n",
        "   print('Input incorrecto')\n",
        "   continue\n",
        "\n",
        "  if letter_input in word:         \n",
        "    for indice in find_index(word, letter_input):\n",
        "      letter_state[letter_input] = 1\n",
        "      letters[indice] = letter_input\n",
        "    used_letters.add(letter_input)\n",
        "\n",
        "    if sum(letter_state.values()) == len(letter_state):\n",
        "      print('Adivinaste la palabra!')\n",
        "      break\n",
        "\n",
        "  else:\n",
        "    lives -=1\n",
        "    if not lives:\n",
        "      print('Perdiste!')\n",
        "      break\n",
        "    used_letters.add(letter_input)\n",
        "\n",
        "  print('------------')\n",
        "  print('letras usadas:', used_letters)\n",
        "  print('estado de la palabra a adivinar:', letters) "
      ]
    },
    {
      "cell_type": "markdown",
      "metadata": {
        "id": "AFoSzm6kDLxJ"
      },
      "source": [
        "## Parseo de enteros\n",
        "Implementar una función que dado un string devuelva el número entero correspondiente o None si el string no es válido.\n",
        "\n",
        "Formato:\n",
        "\n",
        "\n",
        "*   \\- o + al principio (opcional)\n",
        "*   Prefijo: 0b (binario), 0x (hexadecimal), 0o (octal) o nada si es decimal\n",
        "*   Resto de los dígitos (dependiendo de la base)\n",
        "\n",
        "Si el string contiene cualquier otro caracter, entonces no es válido\n",
        "\n",
        "Los dígitos pueden estar en mayúscula o minúscula. Los prefijos siempre son en minúscula.\n",
        "\n",
        "Podés usar cualquier función de las bibliotecas standard de Python"
      ]
    },
    {
      "cell_type": "code",
      "execution_count": 5,
      "metadata": {
        "id": "TAnky63TZ3j1"
      },
      "outputs": [],
      "source": [
        "def to_integer(string):  \n",
        "  if re.fullmatch('[+-]?0x[1-9A-Fa-f]+', string):\n",
        "    return int(string, 16)\n",
        "  elif re.fullmatch('[+-]?0b[0-1]+', string):\n",
        "    return int(string, 2)\n",
        "  elif re.fullmatch('[+-]?0o[1-7]+', string):\n",
        "    return int(string, 8)\n",
        "  elif re.fullmatch('[+-]?[0-9]+', string):\n",
        "    return int(string)\n",
        "  else:\n",
        "    return None"
      ]
    },
    {
      "cell_type": "markdown",
      "metadata": {
        "id": "Z_Xw4c1zH3AA"
      },
      "source": [
        "Pruebas:"
      ]
    },
    {
      "cell_type": "code",
      "execution_count": 6,
      "metadata": {
        "colab": {
          "base_uri": "https://localhost:8080/"
        },
        "id": "5Fv0GhUwEC-X",
        "outputId": "b1bd580b-d037-4b33-ff5d-ed0c0de9034e"
      },
      "outputs": [
        {
          "name": "stdout",
          "output_type": "stream",
          "text": [
            "Test 123 passed: True\n",
            "Test 0x123 passed: True\n",
            "Test 0o123 passed: True\n",
            "Test 0123 passed: True\n",
            "Test 123  passed: True\n",
            "Test  123 passed: True\n",
            "Test 0b1010 passed: True\n",
            "Test +123 passed: True\n",
            "Test -123 passed: True\n",
            "Test 0B1010 passed: True\n",
            "Test 0b12 passed: True\n",
            "Test -0x123 passed: True\n",
            "Test -0o123 passed: True\n",
            "Test -0123 passed: True\n",
            "Test '123\\n' passed: True\n",
            "Test '\\n123' passed: True\n",
            "Test -0b1010 passed: True\n",
            "Test 0xDEADbeef passed: True\n",
            "Test 0X123 passed: True\n",
            "Test 0O123 passed: True\n",
            "Test 0o18 passed: True\n"
          ]
        }
      ],
      "source": [
        "print(f\"Test 123 passed: {to_integer('123') == 123}\")\n",
        "print(f\"Test 0x123 passed: {to_integer('0x123') == 0x123}\")\n",
        "print(f\"Test 0o123 passed: {to_integer('0o123') == 0o123}\")\n",
        "print(f\"Test 0123 passed: {to_integer('0123') == 123}\")\n",
        "print(f\"Test 123  passed: {to_integer('123 ') == None}\")\n",
        "print(f\"Test  123 passed: {to_integer(' 123') == None}\")\n",
        "print(f\"Test 0b1010 passed: {to_integer('0b1010') == 0b1010}\")\n",
        "print(f\"Test +123 passed: {to_integer('+123') == 123}\")\n",
        "print(f\"Test -123 passed: {to_integer('-123') == -123}\")\n",
        "print(f\"Test 0B1010 passed: {to_integer('0B1010') == None}\")\n",
        "print(f\"Test 0b12 passed: {to_integer('0b12') == None}\")\n",
        "print(f\"Test -0x123 passed: {to_integer('-0x123') == -0x123}\")\n",
        "print(f\"Test -0o123 passed: {to_integer('-0o123') == -0o123}\")\n",
        "print(f\"Test -0123 passed: {to_integer('-0123') == -123}\")\n",
        "test = \"123\\n\"\n",
        "print(f\"Test {repr(test)} passed: {to_integer(test) == None}\")\n",
        "test = \"\\n123\"\n",
        "print(f\"Test {repr(test)} passed: {to_integer(test) == None}\")\n",
        "print(f\"Test -0b1010 passed: {to_integer('-0b1010') == -0b1010}\")\n",
        "print(f\"Test 0xDEADbeef passed: {to_integer('0xDEADbeef') == 0xDEADBEEF}\")\n",
        "print(f\"Test 0X123 passed: {to_integer('0X123') == None}\")\n",
        "print(f\"Test 0O123 passed: {to_integer('0O123') == None}\")\n",
        "print(f\"Test 0o18 passed: {to_integer('0o18') == None}\")"
      ]
    },
    {
      "cell_type": "markdown",
      "metadata": {
        "id": "zYhf492mEgsC"
      },
      "source": [
        "## Ejercicio XPaths"
      ]
    },
    {
      "cell_type": "markdown",
      "metadata": {
        "id": "LM40ilrdEpFZ"
      },
      "source": [
        "Este ejercicio consta de extraer datos de un .html (adjuntado en el mail) utilizando [XPaths](https://www.w3schools.com/xml/xpath_intro.asp)\n",
        "\n",
        "Se pide:\n",
        "* Extraer la cantidad de resultados de la búsqueda\n",
        "* Contar la cantidad de links que hay en total\n",
        "* Contar cuántas imágenes hay en el recuadro superior de la derecha (sólo las que están arriba del nombre)\n",
        "* Imprimir los títulos de cada resultado, utilizando la función `clean_title` ya definida (no la modifiques!)"
      ]
    },
    {
      "cell_type": "code",
      "execution_count": 11,
      "metadata": {
        "colab": {
          "base_uri": "https://localhost:8080/",
          "height": 286,
          "resources": {
            "http://localhost:8080/nbextensions/google.colab/files.js": {
              "data": "Ly8gQ29weXJpZ2h0IDIwMTcgR29vZ2xlIExMQwovLwovLyBMaWNlbnNlZCB1bmRlciB0aGUgQXBhY2hlIExpY2Vuc2UsIFZlcnNpb24gMi4wICh0aGUgIkxpY2Vuc2UiKTsKLy8geW91IG1heSBub3QgdXNlIHRoaXMgZmlsZSBleGNlcHQgaW4gY29tcGxpYW5jZSB3aXRoIHRoZSBMaWNlbnNlLgovLyBZb3UgbWF5IG9idGFpbiBhIGNvcHkgb2YgdGhlIExpY2Vuc2UgYXQKLy8KLy8gICAgICBodHRwOi8vd3d3LmFwYWNoZS5vcmcvbGljZW5zZXMvTElDRU5TRS0yLjAKLy8KLy8gVW5sZXNzIHJlcXVpcmVkIGJ5IGFwcGxpY2FibGUgbGF3IG9yIGFncmVlZCB0byBpbiB3cml0aW5nLCBzb2Z0d2FyZQovLyBkaXN0cmlidXRlZCB1bmRlciB0aGUgTGljZW5zZSBpcyBkaXN0cmlidXRlZCBvbiBhbiAiQVMgSVMiIEJBU0lTLAovLyBXSVRIT1VUIFdBUlJBTlRJRVMgT1IgQ09ORElUSU9OUyBPRiBBTlkgS0lORCwgZWl0aGVyIGV4cHJlc3Mgb3IgaW1wbGllZC4KLy8gU2VlIHRoZSBMaWNlbnNlIGZvciB0aGUgc3BlY2lmaWMgbGFuZ3VhZ2UgZ292ZXJuaW5nIHBlcm1pc3Npb25zIGFuZAovLyBsaW1pdGF0aW9ucyB1bmRlciB0aGUgTGljZW5zZS4KCi8qKgogKiBAZmlsZW92ZXJ2aWV3IEhlbHBlcnMgZm9yIGdvb2dsZS5jb2xhYiBQeXRob24gbW9kdWxlLgogKi8KKGZ1bmN0aW9uKHNjb3BlKSB7CmZ1bmN0aW9uIHNwYW4odGV4dCwgc3R5bGVBdHRyaWJ1dGVzID0ge30pIHsKICBjb25zdCBlbGVtZW50ID0gZG9jdW1lbnQuY3JlYXRlRWxlbWVudCgnc3BhbicpOwogIGVsZW1lbnQudGV4dENvbnRlbnQgPSB0ZXh0OwogIGZvciAoY29uc3Qga2V5IG9mIE9iamVjdC5rZXlzKHN0eWxlQXR0cmlidXRlcykpIHsKICAgIGVsZW1lbnQuc3R5bGVba2V5XSA9IHN0eWxlQXR0cmlidXRlc1trZXldOwogIH0KICByZXR1cm4gZWxlbWVudDsKfQoKLy8gTWF4IG51bWJlciBvZiBieXRlcyB3aGljaCB3aWxsIGJlIHVwbG9hZGVkIGF0IGEgdGltZS4KY29uc3QgTUFYX1BBWUxPQURfU0laRSA9IDEwMCAqIDEwMjQ7CgpmdW5jdGlvbiBfdXBsb2FkRmlsZXMoaW5wdXRJZCwgb3V0cHV0SWQpIHsKICBjb25zdCBzdGVwcyA9IHVwbG9hZEZpbGVzU3RlcChpbnB1dElkLCBvdXRwdXRJZCk7CiAgY29uc3Qgb3V0cHV0RWxlbWVudCA9IGRvY3VtZW50LmdldEVsZW1lbnRCeUlkKG91dHB1dElkKTsKICAvLyBDYWNoZSBzdGVwcyBvbiB0aGUgb3V0cHV0RWxlbWVudCB0byBtYWtlIGl0IGF2YWlsYWJsZSBmb3IgdGhlIG5leHQgY2FsbAogIC8vIHRvIHVwbG9hZEZpbGVzQ29udGludWUgZnJvbSBQeXRob24uCiAgb3V0cHV0RWxlbWVudC5zdGVwcyA9IHN0ZXBzOwoKICByZXR1cm4gX3VwbG9hZEZpbGVzQ29udGludWUob3V0cHV0SWQpOwp9CgovLyBUaGlzIGlzIHJvdWdobHkgYW4gYXN5bmMgZ2VuZXJhdG9yIChub3Qgc3VwcG9ydGVkIGluIHRoZSBicm93c2VyIHlldCksCi8vIHdoZXJlIHRoZXJlIGFyZSBtdWx0aXBsZSBhc3luY2hyb25vdXMgc3RlcHMgYW5kIHRoZSBQeXRob24gc2lkZSBpcyBnb2luZwovLyB0byBwb2xsIGZvciBjb21wbGV0aW9uIG9mIGVhY2ggc3RlcC4KLy8gVGhpcyB1c2VzIGEgUHJvbWlzZSB0byBibG9jayB0aGUgcHl0aG9uIHNpZGUgb24gY29tcGxldGlvbiBvZiBlYWNoIHN0ZXAsCi8vIHRoZW4gcGFzc2VzIHRoZSByZXN1bHQgb2YgdGhlIHByZXZpb3VzIHN0ZXAgYXMgdGhlIGlucHV0IHRvIHRoZSBuZXh0IHN0ZXAuCmZ1bmN0aW9uIF91cGxvYWRGaWxlc0NvbnRpbnVlKG91dHB1dElkKSB7CiAgY29uc3Qgb3V0cHV0RWxlbWVudCA9IGRvY3VtZW50LmdldEVsZW1lbnRCeUlkKG91dHB1dElkKTsKICBjb25zdCBzdGVwcyA9IG91dHB1dEVsZW1lbnQuc3RlcHM7CgogIGNvbnN0IG5leHQgPSBzdGVwcy5uZXh0KG91dHB1dEVsZW1lbnQubGFzdFByb21pc2VWYWx1ZSk7CiAgcmV0dXJuIFByb21pc2UucmVzb2x2ZShuZXh0LnZhbHVlLnByb21pc2UpLnRoZW4oKHZhbHVlKSA9PiB7CiAgICAvLyBDYWNoZSB0aGUgbGFzdCBwcm9taXNlIHZhbHVlIHRvIG1ha2UgaXQgYXZhaWxhYmxlIHRvIHRoZSBuZXh0CiAgICAvLyBzdGVwIG9mIHRoZSBnZW5lcmF0b3IuCiAgICBvdXRwdXRFbGVtZW50Lmxhc3RQcm9taXNlVmFsdWUgPSB2YWx1ZTsKICAgIHJldHVybiBuZXh0LnZhbHVlLnJlc3BvbnNlOwogIH0pOwp9CgovKioKICogR2VuZXJhdG9yIGZ1bmN0aW9uIHdoaWNoIGlzIGNhbGxlZCBiZXR3ZWVuIGVhY2ggYXN5bmMgc3RlcCBvZiB0aGUgdXBsb2FkCiAqIHByb2Nlc3MuCiAqIEBwYXJhbSB7c3RyaW5nfSBpbnB1dElkIEVsZW1lbnQgSUQgb2YgdGhlIGlucHV0IGZpbGUgcGlja2VyIGVsZW1lbnQuCiAqIEBwYXJhbSB7c3RyaW5nfSBvdXRwdXRJZCBFbGVtZW50IElEIG9mIHRoZSBvdXRwdXQgZGlzcGxheS4KICogQHJldHVybiB7IUl0ZXJhYmxlPCFPYmplY3Q+fSBJdGVyYWJsZSBvZiBuZXh0IHN0ZXBzLgogKi8KZnVuY3Rpb24qIHVwbG9hZEZpbGVzU3RlcChpbnB1dElkLCBvdXRwdXRJZCkgewogIGNvbnN0IGlucHV0RWxlbWVudCA9IGRvY3VtZW50LmdldEVsZW1lbnRCeUlkKGlucHV0SWQpOwogIGlucHV0RWxlbWVudC5kaXNhYmxlZCA9IGZhbHNlOwoKICBjb25zdCBvdXRwdXRFbGVtZW50ID0gZG9jdW1lbnQuZ2V0RWxlbWVudEJ5SWQob3V0cHV0SWQpOwogIG91dHB1dEVsZW1lbnQuaW5uZXJIVE1MID0gJyc7CgogIGNvbnN0IHBpY2tlZFByb21pc2UgPSBuZXcgUHJvbWlzZSgocmVzb2x2ZSkgPT4gewogICAgaW5wdXRFbGVtZW50LmFkZEV2ZW50TGlzdGVuZXIoJ2NoYW5nZScsIChlKSA9PiB7CiAgICAgIHJlc29sdmUoZS50YXJnZXQuZmlsZXMpOwogICAgfSk7CiAgfSk7CgogIGNvbnN0IGNhbmNlbCA9IGRvY3VtZW50LmNyZWF0ZUVsZW1lbnQoJ2J1dHRvbicpOwogIGlucHV0RWxlbWVudC5wYXJlbnRFbGVtZW50LmFwcGVuZENoaWxkKGNhbmNlbCk7CiAgY2FuY2VsLnRleHRDb250ZW50ID0gJ0NhbmNlbCB1cGxvYWQnOwogIGNvbnN0IGNhbmNlbFByb21pc2UgPSBuZXcgUHJvbWlzZSgocmVzb2x2ZSkgPT4gewogICAgY2FuY2VsLm9uY2xpY2sgPSAoKSA9PiB7CiAgICAgIHJlc29sdmUobnVsbCk7CiAgICB9OwogIH0pOwoKICAvLyBXYWl0IGZvciB0aGUgdXNlciB0byBwaWNrIHRoZSBmaWxlcy4KICBjb25zdCBmaWxlcyA9IHlpZWxkIHsKICAgIHByb21pc2U6IFByb21pc2UucmFjZShbcGlja2VkUHJvbWlzZSwgY2FuY2VsUHJvbWlzZV0pLAogICAgcmVzcG9uc2U6IHsKICAgICAgYWN0aW9uOiAnc3RhcnRpbmcnLAogICAgfQogIH07CgogIGNhbmNlbC5yZW1vdmUoKTsKCiAgLy8gRGlzYWJsZSB0aGUgaW5wdXQgZWxlbWVudCBzaW5jZSBmdXJ0aGVyIHBpY2tzIGFyZSBub3QgYWxsb3dlZC4KICBpbnB1dEVsZW1lbnQuZGlzYWJsZWQgPSB0cnVlOwoKICBpZiAoIWZpbGVzKSB7CiAgICByZXR1cm4gewogICAgICByZXNwb25zZTogewogICAgICAgIGFjdGlvbjogJ2NvbXBsZXRlJywKICAgICAgfQogICAgfTsKICB9CgogIGZvciAoY29uc3QgZmlsZSBvZiBmaWxlcykgewogICAgY29uc3QgbGkgPSBkb2N1bWVudC5jcmVhdGVFbGVtZW50KCdsaScpOwogICAgbGkuYXBwZW5kKHNwYW4oZmlsZS5uYW1lLCB7Zm9udFdlaWdodDogJ2JvbGQnfSkpOwogICAgbGkuYXBwZW5kKHNwYW4oCiAgICAgICAgYCgke2ZpbGUudHlwZSB8fCAnbi9hJ30pIC0gJHtmaWxlLnNpemV9IGJ5dGVzLCBgICsKICAgICAgICBgbGFzdCBtb2RpZmllZDogJHsKICAgICAgICAgICAgZmlsZS5sYXN0TW9kaWZpZWREYXRlID8gZmlsZS5sYXN0TW9kaWZpZWREYXRlLnRvTG9jYWxlRGF0ZVN0cmluZygpIDoKICAgICAgICAgICAgICAgICAgICAgICAgICAgICAgICAgICAgJ24vYSd9IC0gYCkpOwogICAgY29uc3QgcGVyY2VudCA9IHNwYW4oJzAlIGRvbmUnKTsKICAgIGxpLmFwcGVuZENoaWxkKHBlcmNlbnQpOwoKICAgIG91dHB1dEVsZW1lbnQuYXBwZW5kQ2hpbGQobGkpOwoKICAgIGNvbnN0IGZpbGVEYXRhUHJvbWlzZSA9IG5ldyBQcm9taXNlKChyZXNvbHZlKSA9PiB7CiAgICAgIGNvbnN0IHJlYWRlciA9IG5ldyBGaWxlUmVhZGVyKCk7CiAgICAgIHJlYWRlci5vbmxvYWQgPSAoZSkgPT4gewogICAgICAgIHJlc29sdmUoZS50YXJnZXQucmVzdWx0KTsKICAgICAgfTsKICAgICAgcmVhZGVyLnJlYWRBc0FycmF5QnVmZmVyKGZpbGUpOwogICAgfSk7CiAgICAvLyBXYWl0IGZvciB0aGUgZGF0YSB0byBiZSByZWFkeS4KICAgIGxldCBmaWxlRGF0YSA9IHlpZWxkIHsKICAgICAgcHJvbWlzZTogZmlsZURhdGFQcm9taXNlLAogICAgICByZXNwb25zZTogewogICAgICAgIGFjdGlvbjogJ2NvbnRpbnVlJywKICAgICAgfQogICAgfTsKCiAgICAvLyBVc2UgYSBjaHVua2VkIHNlbmRpbmcgdG8gYXZvaWQgbWVzc2FnZSBzaXplIGxpbWl0cy4gU2VlIGIvNjIxMTU2NjAuCiAgICBsZXQgcG9zaXRpb24gPSAwOwogICAgZG8gewogICAgICBjb25zdCBsZW5ndGggPSBNYXRoLm1pbihmaWxlRGF0YS5ieXRlTGVuZ3RoIC0gcG9zaXRpb24sIE1BWF9QQVlMT0FEX1NJWkUpOwogICAgICBjb25zdCBjaHVuayA9IG5ldyBVaW50OEFycmF5KGZpbGVEYXRhLCBwb3NpdGlvbiwgbGVuZ3RoKTsKICAgICAgcG9zaXRpb24gKz0gbGVuZ3RoOwoKICAgICAgY29uc3QgYmFzZTY0ID0gYnRvYShTdHJpbmcuZnJvbUNoYXJDb2RlLmFwcGx5KG51bGwsIGNodW5rKSk7CiAgICAgIHlpZWxkIHsKICAgICAgICByZXNwb25zZTogewogICAgICAgICAgYWN0aW9uOiAnYXBwZW5kJywKICAgICAgICAgIGZpbGU6IGZpbGUubmFtZSwKICAgICAgICAgIGRhdGE6IGJhc2U2NCwKICAgICAgICB9LAogICAgICB9OwoKICAgICAgbGV0IHBlcmNlbnREb25lID0gZmlsZURhdGEuYnl0ZUxlbmd0aCA9PT0gMCA/CiAgICAgICAgICAxMDAgOgogICAgICAgICAgTWF0aC5yb3VuZCgocG9zaXRpb24gLyBmaWxlRGF0YS5ieXRlTGVuZ3RoKSAqIDEwMCk7CiAgICAgIHBlcmNlbnQudGV4dENvbnRlbnQgPSBgJHtwZXJjZW50RG9uZX0lIGRvbmVgOwoKICAgIH0gd2hpbGUgKHBvc2l0aW9uIDwgZmlsZURhdGEuYnl0ZUxlbmd0aCk7CiAgfQoKICAvLyBBbGwgZG9uZS4KICB5aWVsZCB7CiAgICByZXNwb25zZTogewogICAgICBhY3Rpb246ICdjb21wbGV0ZScsCiAgICB9CiAgfTsKfQoKc2NvcGUuZ29vZ2xlID0gc2NvcGUuZ29vZ2xlIHx8IHt9OwpzY29wZS5nb29nbGUuY29sYWIgPSBzY29wZS5nb29nbGUuY29sYWIgfHwge307CnNjb3BlLmdvb2dsZS5jb2xhYi5fZmlsZXMgPSB7CiAgX3VwbG9hZEZpbGVzLAogIF91cGxvYWRGaWxlc0NvbnRpbnVlLAp9Owp9KShzZWxmKTsK",
              "headers": [
                [
                  "content-type",
                  "application/javascript"
                ]
              ],
              "ok": true,
              "status": 200,
              "status_text": ""
            }
          }
        },
        "id": "g67Rie9lLY77",
        "outputId": "93f51d98-716d-4d55-b44d-52a3602dc974"
      },
      "outputs": [],
      "source": [
        "def clean_title(title):\n",
        "  new_title = title.split('|')[0]\n",
        "  new_title = new_title.split('-')[0]\n",
        "  return new_title\n",
        "\n",
        "from bs4 import BeautifulSoup\n",
        "\n",
        "with open(\"google.html\", \"r\", encoding='utf-8') as f:\n",
        "    html_file= f.read()\n"
      ]
    },
    {
      "cell_type": "code",
      "execution_count": 13,
      "metadata": {
        "colab": {
          "base_uri": "https://localhost:8080/"
        },
        "id": "ZJYbRyQuNh_r",
        "outputId": "cf663ef0-de26-4d64-fe66-6554ba38096a"
      },
      "outputs": [
        {
          "name": "stdout",
          "output_type": "stream",
          "text": [
            "La busqueda devolvio un total de 10 resultados.\n"
          ]
        }
      ],
      "source": [
        "#Extraer la cantidad de resultados de la búsqueda\n",
        "soup = BeautifulSoup(html_file, 'html.parser')\n",
        "\n",
        "results = soup.find_all('div', class_='cbphWd')\n",
        "results[0].text\n",
        "\n",
        "titulos = []\n",
        "\n",
        "#resultados busqueda\n",
        "for div in soup.find_all('div', class_='hlcw0c'):\n",
        "  for result in div.find_all('h3', class_='LC20lb DKV0Md'):\n",
        "    titulos.append(result.text)\n",
        "\n",
        "#anuncios de la busqueda\n",
        "results = soup.find_all('div', class_='qGXjvb') \n",
        "for result in results:\n",
        "  title = result.find('div', class_='cfxYMc JfZTW c4Djg MUxGbd v0nnCb')\n",
        "  titulos.append(title.text)\n",
        "\n",
        "print('La busqueda devolvio un total de', len(titulos), 'resultados.')"
      ]
    },
    {
      "cell_type": "code",
      "execution_count": 14,
      "metadata": {
        "colab": {
          "base_uri": "https://localhost:8080/"
        },
        "id": "_Vp0Z310S-LA",
        "outputId": "9de0a5fd-cdbf-4cdc-d539-e49845a367e2"
      },
      "outputs": [
        {
          "name": "stdout",
          "output_type": "stream",
          "text": [
            "Hay un total de 11 links\n"
          ]
        }
      ],
      "source": [
        "#Contar la cantidad de links que hay en total\n",
        "links = []\n",
        "\n",
        "results = soup.find_all('div', class_='yuRUbf')\n",
        "for result in results:\n",
        "  links.append(result.a['href'])\n",
        "\n",
        "print('Hay un total de', len(set(links)), 'links')"
      ]
    },
    {
      "cell_type": "code",
      "execution_count": 15,
      "metadata": {
        "colab": {
          "base_uri": "https://localhost:8080/"
        },
        "id": "wP0JrGVmo7Dp",
        "outputId": "b6faaa61-cee7-4c7a-f5e7-e3a1b3942eec"
      },
      "outputs": [
        {
          "name": "stdout",
          "output_type": "stream",
          "text": [
            "Hay 8 imagenes\n"
          ]
        }
      ],
      "source": [
        "#Contar cuántas imágenes hay en el recuadro superior de la derecha (sólo las que están arriba del nombre)\n",
        "\n",
        "results = soup.find('div', class_='sATSHe')\n",
        "a = results.find_all('div', class_='eA0Zlc ivg-i PtaMgb PZPZlf')\n",
        "print('Hay', len(a), 'imagenes') \n",
        "\n",
        "#Hay una imagen que esta oculta y no aparece"
      ]
    },
    {
      "cell_type": "code",
      "execution_count": 16,
      "metadata": {
        "colab": {
          "base_uri": "https://localhost:8080/"
        },
        "id": "Ua30tC3CZmbc",
        "outputId": "06fc266c-b5cf-41ea-c498-924438e5303c"
      },
      "outputs": [
        {
          "data": {
            "text/plain": [
              "['Ada Lovelace ',\n",
              " 'Ada Lovelace: la primera programadora ',\n",
              " 'Ada Byron: Condesa de Lovelace (1815',\n",
              " 'Biografía de Ada Lovelace ',\n",
              " 'Así fue como Ada Lovelace ayudó a crear la informática ...',\n",
              " 'Ada Lovelace: Mujeres de la Ciencia en EL PAÍS',\n",
              " 'Ada Lovelace, la visionaria hija de Lord Byron',\n",
              " 'Ada Lovelace, la matemática que allanó el camino para la ...',\n",
              " 'ADA BYRON',\n",
              " 'Ada Lovelace ']"
            ]
          },
          "execution_count": 16,
          "metadata": {},
          "output_type": "execute_result"
        }
      ],
      "source": [
        "#Imprimir los títulos de cada resultado, utilizando la función clean_title ya definida (no la modifiques!)\n",
        "\n",
        "titulos_limpios = map(clean_title, titulos)\n",
        "list(titulos_limpios)"
      ]
    },
    {
      "cell_type": "markdown",
      "metadata": {
        "id": "FzqNyq8k73YJ"
      },
      "source": [
        "## Ejercicio Pandas (opcional)"
      ]
    },
    {
      "cell_type": "markdown",
      "metadata": {
        "id": "WCHEvJQJ76sH"
      },
      "source": [
        "https://en.wikipedia.org/wiki/Pandas_(software)\n",
        "\n",
        "Este ejercico está enfocado en el uso de Pandas (una biblioteca muy usada de Python)\n",
        "Se tiene dos datasets (enviados por mail):\n",
        "* Uno contiene las órdenes hechas a un cierto restaurant. Tenemos los campos order_id, product_id y order_date. \n",
        "* El otro dataset es el maestro de productos de ese restaurant. Contiene product_id y name (nombre del producto)\n",
        "Se pide calcular:\n",
        "1. El nombre del producto más vendido en general\n",
        "2. El nombre del producto más vendido en cada mes\n",
        "3. Cantidad promedio de productos por orden (order_id) \n",
        "4. Opcional: Cualquier otra cosa que te dé curiosidad calcular :)\n",
        "\n",
        "Es requisito usar la librería **Pandas** para obtener las respuestas.\n"
      ]
    },
    {
      "cell_type": "markdown",
      "metadata": {
        "id": "IhkgvoHX-Nle"
      },
      "source": [
        "Ejecutá la celda de abajo para cargar los archivos y los dataframes\n"
      ]
    },
    {
      "cell_type": "code",
      "execution_count": 1,
      "metadata": {
        "id": "SvYEv4wM76WS"
      },
      "outputs": [],
      "source": [
        "import pandas as pd\n",
        "\n",
        "df_orders = pd.read_csv('orders_dataset.csv')\n",
        "\n",
        "df_product_names = pd.read_csv('product_names.csv')"
      ]
    },
    {
      "cell_type": "code",
      "execution_count": 2,
      "metadata": {
        "colab": {
          "base_uri": "https://localhost:8080/",
          "height": 80
        },
        "id": "C72gcD2J9wzf",
        "outputId": "d33da661-49b7-41e4-d751-87eb61d4a586"
      },
      "outputs": [
        {
          "data": {
            "text/html": [
              "<div>\n",
              "<style scoped>\n",
              "    .dataframe tbody tr th:only-of-type {\n",
              "        vertical-align: middle;\n",
              "    }\n",
              "\n",
              "    .dataframe tbody tr th {\n",
              "        vertical-align: top;\n",
              "    }\n",
              "\n",
              "    .dataframe thead th {\n",
              "        text-align: right;\n",
              "    }\n",
              "</style>\n",
              "<table border=\"1\" class=\"dataframe\">\n",
              "  <thead>\n",
              "    <tr style=\"text-align: right;\">\n",
              "      <th></th>\n",
              "      <th>PRODUCT_ID</th>\n",
              "      <th>NAME</th>\n",
              "    </tr>\n",
              "  </thead>\n",
              "  <tbody>\n",
              "    <tr>\n",
              "      <th>54</th>\n",
              "      <td>952642</td>\n",
              "      <td>Cajita Feliz Hamburguesa</td>\n",
              "    </tr>\n",
              "  </tbody>\n",
              "</table>\n",
              "</div>"
            ],
            "text/plain": [
              "    PRODUCT_ID                       NAME\n",
              "54      952642  Cajita Feliz Hamburguesa "
            ]
          },
          "execution_count": 2,
          "metadata": {},
          "output_type": "execute_result"
        }
      ],
      "source": [
        "#1. El nombre del producto más vendido en general. 952642\n",
        "\n",
        "mas_vendido = df_orders.groupby(by='PRODUCT_ID')['PRODUCT_ID'].count().sort_values(ascending=False).index[0]\n",
        "\n",
        "df_product_names[df_product_names['PRODUCT_ID'] == mas_vendido]"
      ]
    },
    {
      "cell_type": "code",
      "execution_count": 3,
      "metadata": {
        "id": "Dx05RchDjePh"
      },
      "outputs": [],
      "source": [
        "#2. El nombre del producto más vendido en cada mes\n",
        "\n",
        "df_orders['ORDER_DATE'] = pd.to_datetime(df_orders['ORDER_DATE'])\n",
        "df_orders['MONTH'] = df_orders['ORDER_DATE'].dt.month\n",
        "\n",
        "grouped_orders = df_orders.pivot_table(index= ['MONTH', 'PRODUCT_ID'], values='ORDER_ID', aggfunc='count').reset_index()\n",
        "grouped_orders.rename(columns={'ORDER_ID':'COUNT'} ,inplace=True)\n",
        "\n",
        "def get_max(df, month):\n",
        "  max = df[df['MONTH']==month]['COUNT'].max()\n",
        "  return df[(df['MONTH']==month) & (df['COUNT'] == max)]"
      ]
    },
    {
      "cell_type": "code",
      "execution_count": 4,
      "metadata": {
        "colab": {
          "base_uri": "https://localhost:8080/",
          "height": 142
        },
        "id": "eNo3NyyQYzEa",
        "outputId": "d0222698-a647-462a-e80e-af69b272d4c1"
      },
      "outputs": [
        {
          "data": {
            "text/html": [
              "<div>\n",
              "<style scoped>\n",
              "    .dataframe tbody tr th:only-of-type {\n",
              "        vertical-align: middle;\n",
              "    }\n",
              "\n",
              "    .dataframe tbody tr th {\n",
              "        vertical-align: top;\n",
              "    }\n",
              "\n",
              "    .dataframe thead th {\n",
              "        text-align: right;\n",
              "    }\n",
              "</style>\n",
              "<table border=\"1\" class=\"dataframe\">\n",
              "  <thead>\n",
              "    <tr style=\"text-align: right;\">\n",
              "      <th></th>\n",
              "      <th>PRODUCT_ID</th>\n",
              "      <th>NAME</th>\n",
              "      <th>MONTH</th>\n",
              "      <th>COUNT</th>\n",
              "    </tr>\n",
              "  </thead>\n",
              "  <tbody>\n",
              "    <tr>\n",
              "      <th>0</th>\n",
              "      <td>952629</td>\n",
              "      <td>McCombo - McNuggets Mediano x 10</td>\n",
              "      <td>7</td>\n",
              "      <td>2</td>\n",
              "    </tr>\n",
              "    <tr>\n",
              "      <th>1</th>\n",
              "      <td>1437306</td>\n",
              "      <td>Sándwich Cuarto de Libra + Papas</td>\n",
              "      <td>7</td>\n",
              "      <td>2</td>\n",
              "    </tr>\n",
              "    <tr>\n",
              "      <th>2</th>\n",
              "      <td>1221551</td>\n",
              "      <td>McFlurry XXL Oreo</td>\n",
              "      <td>7</td>\n",
              "      <td>2</td>\n",
              "    </tr>\n",
              "  </tbody>\n",
              "</table>\n",
              "</div>"
            ],
            "text/plain": [
              "   PRODUCT_ID                              NAME  MONTH  COUNT\n",
              "0      952629  McCombo - McNuggets Mediano x 10      7      2\n",
              "1     1437306  Sándwich Cuarto de Libra + Papas      7      2\n",
              "2     1221551                 McFlurry XXL Oreo      7      2"
            ]
          },
          "execution_count": 4,
          "metadata": {},
          "output_type": "execute_result"
        }
      ],
      "source": [
        "df_product_names.merge(get_max(grouped_orders, 7))"
      ]
    },
    {
      "cell_type": "code",
      "execution_count": 5,
      "metadata": {
        "colab": {
          "base_uri": "https://localhost:8080/",
          "height": 80
        },
        "id": "6h3ApbYVYzx1",
        "outputId": "508869a9-33d1-4b6d-cc23-ebec98bdccb6"
      },
      "outputs": [
        {
          "data": {
            "text/html": [
              "<div>\n",
              "<style scoped>\n",
              "    .dataframe tbody tr th:only-of-type {\n",
              "        vertical-align: middle;\n",
              "    }\n",
              "\n",
              "    .dataframe tbody tr th {\n",
              "        vertical-align: top;\n",
              "    }\n",
              "\n",
              "    .dataframe thead th {\n",
              "        text-align: right;\n",
              "    }\n",
              "</style>\n",
              "<table border=\"1\" class=\"dataframe\">\n",
              "  <thead>\n",
              "    <tr style=\"text-align: right;\">\n",
              "      <th></th>\n",
              "      <th>PRODUCT_ID</th>\n",
              "      <th>NAME</th>\n",
              "      <th>MONTH</th>\n",
              "      <th>COUNT</th>\n",
              "    </tr>\n",
              "  </thead>\n",
              "  <tbody>\n",
              "    <tr>\n",
              "      <th>0</th>\n",
              "      <td>952642</td>\n",
              "      <td>Cajita Feliz Hamburguesa</td>\n",
              "      <td>8</td>\n",
              "      <td>32</td>\n",
              "    </tr>\n",
              "  </tbody>\n",
              "</table>\n",
              "</div>"
            ],
            "text/plain": [
              "   PRODUCT_ID                       NAME  MONTH  COUNT\n",
              "0      952642  Cajita Feliz Hamburguesa       8     32"
            ]
          },
          "execution_count": 5,
          "metadata": {},
          "output_type": "execute_result"
        }
      ],
      "source": [
        "df_product_names.merge(get_max(grouped_orders, 8))"
      ]
    },
    {
      "cell_type": "code",
      "execution_count": 121,
      "metadata": {
        "colab": {
          "base_uri": "https://localhost:8080/"
        },
        "id": "CJUAKm1uZ5v-",
        "outputId": "651c51e6-59ff-4593-907c-2f4ef4bb96ad"
      },
      "outputs": [
        {
          "name": "stdout",
          "output_type": "stream",
          "text": [
            "Hay un promedio de 1.529 productos por orden\n"
          ]
        }
      ],
      "source": [
        "#3. Cantidad promedio de productos por orden (order_id)\n",
        "import numpy as np\n",
        "\n",
        "print('Hay un promedio de', round(np.mean(df_orders.groupby(by='ORDER_ID')['PRODUCT_ID'].count()), 3), 'productos por orden')"
      ]
    },
    {
      "cell_type": "code",
      "execution_count": 8,
      "metadata": {
        "colab": {
          "base_uri": "https://localhost:8080/",
          "height": 299
        },
        "id": "fGL8U-b5b3sX",
        "outputId": "ddec238f-a022-46df-8532-6a5073ff0998"
      },
      "outputs": [
        {
          "data": {
            "text/plain": [
              "<AxesSubplot:xlabel='DAY'>"
            ]
          },
          "execution_count": 8,
          "metadata": {},
          "output_type": "execute_result"
        },
        {
          "data": {
            "image/png": "[encoded data removed]",
            "text/plain": [
              "<Figure size 432x288 with 1 Axes>"
            ]
          },
          "metadata": {
            "needs_background": "light"
          },
          "output_type": "display_data"
        }
      ],
      "source": [
        "#4. Ventas del mes de Agosto\n",
        "import matplotlib\n",
        "\n",
        "df_orders['ORDER_DATE'] = pd.to_datetime(df_orders['ORDER_DATE'])\n",
        "df_orders['DAY'] = df_orders['ORDER_DATE'].dt.day\n",
        "\n",
        "ventas_agosto = df_orders[df_orders['MONTH'] == 8]\n",
        "ventas_por_dia = ventas_agosto.groupby(['DAY', 'ORDER_ID']).count().reset_index().groupby('DAY')['ORDER_ID'].count()\n",
        "\n",
        "ventas_por_dia.plot.bar()"
      ]
    }
  ],
  "metadata": {
    "colab": {
      "collapsed_sections": [],
      "include_colab_link": true,
      "name": "Copia de Ejercicio Técnico 7Puentes.ipynb",
      "provenance": []
    },
    "kernelspec": {
      "display_name": "Python 3",
      "name": "python3"
    },
    "language_info": {
      "codemirror_mode": {
        "name": "ipython",
        "version": 3
      },
      "file_extension": ".py",
      "mimetype": "text/x-python",
      "name": "python",
      "nbconvert_exporter": "python",
      "pygments_lexer": "ipython3",
      "version": "3.10.3"
    }
  },
  "nbformat": 4,
  "nbformat_minor": 0
}
