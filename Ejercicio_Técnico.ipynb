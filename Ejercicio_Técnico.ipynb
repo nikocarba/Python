{
  "cells": [
    {
      "cell_type": "markdown",
      "metadata": {
        "colab_type": "text",
        "id": "view-in-github"
      },
      "source": [
        "<a href=\"https://colab.research.google.com/github/nikocarba/Python/blob/main/Copia_de_Ejercicio_T%C3%A9cnico.ipynb\" target=\"_parent\"><img src=\"https://colab.research.google.com/assets/colab-badge.svg\" alt=\"Open In Colab\"/></a>"
      ]
    },
    {
      "cell_type": "markdown",
      "metadata": {
        "id": "zYfoVzRo3Phv"
      },
      "source": [
        "# Ejercicion Técnico"
      ]
    },
    {
      "cell_type": "markdown",
      "metadata": {
        "id": "LilKx4Fk3Y8_"
      },
      "source": [
        "A continuación presentaremos algunos ejercicios a desarrollar en Python. Cada ejercicio es independiente del otro, sin embargo, tengan cuidado con el nombre de las variables (para esta herramienta, todo lo que escriban es parte del mismo \"programa\")\n",
        "\n",
        "+info: https://colab.research.google.com/notebooks/intro.ipynb"
      ]
    },
    {
      "cell_type": "markdown",
      "metadata": {
        "id": "U75doMVV4Ntw"
      },
      "source": [
        "## Tu nombre villano"
      ]
    },
    {
      "cell_type": "markdown",
      "metadata": {
        "id": "taAWqLh66Hr7"
      },
      "source": [
        "Creá una función que devuelva tu nombre en \"villano\" basada en la fecha de tu cumpleaños (se asume que la fecha recibida es una fecha válida) y tu nombre. Las reglas para la conversión son las siguientes:\n",
        "\n",
        "**Nombre -> Mes de nacimiento**\n",
        "\n",
        "* Enero -> \"The Evil\"\n",
        "* Febrero -> \"The Vile\"\n",
        "* Marzo -> \"The Cruel\"\n",
        "* Abril -> \"The Trashy\"\n",
        "* Mayo -> \"The Despicable\"\n",
        "* Junio -> \"The Embarrassing\"\n",
        "* Julio -> \"The Disreputable\"\n",
        "* Agosto -> \"The Atrocious\"\n",
        "* Septiembre -> \"The Twirling\"\n",
        "* Octubre -> \"The Orange\"\n",
        "* Noviembre -> \"The Terrifying\"\n",
        "* Diciembre -> \"The Awkward\"\n",
        "\n",
        "**Segundo nombre -> Tu nombre de atrás hacia adelante**\n",
        "\n",
        "Ejemplo:\n",
        "* Sofia -> Aifos\n",
        "\n",
        "**Apellido -> Último dígito del día de Nacimiento**\n",
        "\n",
        "* 0 -> \"Mustache\"\n",
        "* 1 -> \"Pickle\"\n",
        "* 2 -> \"Hood Ornament\"\n",
        "* 3 -> \"Raisin\"\n",
        "* 4 -> \"Recycling Bin\"\n",
        "* 5 -> \"Potato\"\n",
        "* 6 -> \"Tomato\"\n",
        "* 7 -> \"House Cat\"\n",
        "* 8 -> \"Teaspoon\"\n",
        "* 9 -> \"Laundry Basket\""
      ]
    },
    {
      "cell_type": "code",
      "execution_count": 2,
      "metadata": {
        "colab": {
          "base_uri": "https://localhost:8080/",
          "height": 35
        },
        "id": "N64Hc2ZXnAKY",
        "outputId": "04e24e00-f24b-4916-de39-0f7ff841dd92"
      },
      "outputs": [],
      "source": [
        "import datetime\n",
        "\n",
        "mapeo_mes = {\n",
        "  1 : \"The Evil\",\n",
        "  2 : \"The Vile\",\n",
        "  3 : \"The Cruel\",\n",
        "  4 : \"The Trashy\",\n",
        "  5 : \"The Despicable\",\n",
        "  6 : \"The Embarrassing\",\n",
        "  7 : \"The Disreputable\",\n",
        "  8 : \"The Atrocious\",\n",
        "  9 : \"The Twirling\",\n",
        "  10 : \"The Orange\",\n",
        "  11 : \"The Terrifying\",\n",
        "  12 : \"The Awkward\"\n",
        "}\n",
        "\n",
        "mapeo_digito = {\n",
        "  '0' : \"Mustache\",\n",
        "  '1' : \"Pickle\",\n",
        "  '2' : \"Hood Ornament\",\n",
        "  '3' : \"Raisin\",\n",
        "  '4' : \"Recycling Bin\",\n",
        "  '5' : \"Potato\",\n",
        "  '6' : \"Tomato\",\n",
        "  '7' : \"House Cat\",\n",
        "  '8' : \"Teaspoon\",\n",
        "  '9' : \"Laundry Basket\"    \n",
        "}\n",
        "\n",
        "def get_villain_name(name, birthdate):\n",
        "  return mapeo_mes[birthdate.month] + ' ' + name[::-1].capitalize() + ' ' + mapeo_digito[str(birthdate)[-1]]"
      ]
    },
    {
      "cell_type": "markdown",
      "metadata": {
        "id": "scAUKpt1Hvi9"
      },
      "source": [
        "Pruebas:"
      ]
    },
    {
      "cell_type": "code",
      "execution_count": 3,
      "metadata": {
        "colab": {
          "base_uri": "https://localhost:8080/"
        },
        "id": "mlioBCOO6OZa",
        "outputId": "65bf6479-b8fc-40e3-e25e-581701ace734"
      },
      "outputs": [
        {
          "name": "stdout",
          "output_type": "stream",
          "text": [
            "True\n",
            "True\n",
            "True\n"
          ]
        }
      ],
      "source": [
        "print(get_villain_name('Sofia', datetime.date(2000,1,1)) == \"The Evil Aifos Pickle\")\n",
        "print(get_villain_name('Tomi', datetime.date(1998,3,1)) == \"The Cruel Imot Pickle\")\n",
        "print(get_villain_name('Cota', datetime.date(1996,8,25)) == \"The Atrocious Atoc Potato\")"
      ]
    },
    {
      "cell_type": "markdown",
      "metadata": {
        "id": "LEUHaMAg7gUb"
      },
      "source": [
        "## Ahorcado"
      ]
    },
    {
      "cell_type": "markdown",
      "metadata": {
        "id": "B2cqwqVY7nPr"
      },
      "source": [
        "https://es.wikipedia.org/wiki/Ahorcado_(juego)\n",
        "\n",
        "En este punto se pide implementar una versión del conocido juego *Ahorcado*.\n",
        "El programa debe cumplir los siguientes puntos:\n",
        "1. Primero pide a un jugador la palabra a adivinar por input.\n",
        "2. Después toma las letras que elige el otro jugador por input también.\n",
        "3. El jugador tiene 5 vidas, si las pierde todas, pierde.\n",
        "4. Se tiene que ir mostrando el avance del juego, mostrando las letras ya probadas y como se va completando la palabra a adivinar\n",
        "\n",
        "Por ejemplo: \n",
        ">* `letras usadas: a,o,p` \n",
        ">* `estado de la palabra a adivinar: _o_a`"
      ]
    },
    {
      "cell_type": "code",
      "execution_count": null,
      "metadata": {
        "colab": {
          "base_uri": "https://localhost:8080/",
          "height": 714
        },
        "id": "FzcV9IV-7nnu",
        "outputId": "e52e45da-98fe-4570-e5c8-00092cf228f3"
      },
      "outputs": [],
      "source": [
        "import os\n",
        "import re\n",
        "\n",
        "print('Ingrese palabra: ')\n",
        "\n",
        "word = input().lower()\n",
        "letter_state = {x:0 for x in word}\n",
        "letters = ['_' for _ in range(len(word))]\n",
        "\n",
        "used_letters = set()\n",
        "lives = 5\n",
        "\n",
        "def find_index(word, ch):     \n",
        "  return [i for i, ltr in enumerate(word) if ltr == ch]\n",
        "\n",
        "while True:\n",
        "  print('Ingrese letra: ')\n",
        "  letter_input = input().lower().strip()\n",
        "\n",
        "  if not re.fullmatch(r\"[a-zA-Z]\", letter_input):\n",
        "   print('Input incorrecto')\n",
        "   continue\n",
        "\n",
        "  if letter_input in word:         \n",
        "    for indice in find_index(word, letter_input):\n",
        "      letter_state[letter_input] = 1\n",
        "      letters[indice] = letter_input\n",
        "    used_letters.add(letter_input)\n",
        "\n",
        "    if sum(letter_state.values()) == len(letter_state):\n",
        "      print('Adivinaste la palabra!')\n",
        "      break\n",
        "\n",
        "  else:\n",
        "    lives -=1\n",
        "    if not lives:\n",
        "      print('Perdiste!')\n",
        "      break\n",
        "    used_letters.add(letter_input)\n",
        "\n",
        "  print('------------')\n",
        "  print('letras usadas:', used_letters)\n",
        "  print('estado de la palabra a adivinar:', letters) "
      ]
    },
    {
      "cell_type": "markdown",
      "metadata": {
        "id": "AFoSzm6kDLxJ"
      },
      "source": [
        "## Parseo de enteros\n",
        "Implementar una función que dado un string devuelva el número entero correspondiente o None si el string no es válido.\n",
        "\n",
        "Formato:\n",
        "\n",
        "\n",
        "*   \\- o + al principio (opcional)\n",
        "*   Prefijo: 0b (binario), 0x (hexadecimal), 0o (octal) o nada si es decimal\n",
        "*   Resto de los dígitos (dependiendo de la base)\n",
        "\n",
        "Si el string contiene cualquier otro caracter, entonces no es válido\n",
        "\n",
        "Los dígitos pueden estar en mayúscula o minúscula. Los prefijos siempre son en minúscula.\n",
        "\n",
        "Podés usar cualquier función de las bibliotecas standard de Python"
      ]
    },
    {
      "cell_type": "code",
      "execution_count": 5,
      "metadata": {
        "id": "TAnky63TZ3j1"
      },
      "outputs": [],
      "source": [
        "def to_integer(string):  \n",
        "  if re.fullmatch('[+-]?0x[1-9A-Fa-f]+', string):\n",
        "    return int(string, 16)\n",
        "  elif re.fullmatch('[+-]?0b[0-1]+', string):\n",
        "    return int(string, 2)\n",
        "  elif re.fullmatch('[+-]?0o[1-7]+', string):\n",
        "    return int(string, 8)\n",
        "  elif re.fullmatch('[+-]?[0-9]+', string):\n",
        "    return int(string)\n",
        "  else:\n",
        "    return None"
      ]
    },
    {
      "cell_type": "markdown",
      "metadata": {
        "id": "Z_Xw4c1zH3AA"
      },
      "source": [
        "Pruebas:"
      ]
    },
    {
      "cell_type": "code",
      "execution_count": 6,
      "metadata": {
        "colab": {
          "base_uri": "https://localhost:8080/"
        },
        "id": "5Fv0GhUwEC-X",
        "outputId": "b1bd580b-d037-4b33-ff5d-ed0c0de9034e"
      },
      "outputs": [
        {
          "name": "stdout",
          "output_type": "stream",
          "text": [
            "Test 123 passed: True\n",
            "Test 0x123 passed: True\n",
            "Test 0o123 passed: True\n",
            "Test 0123 passed: True\n",
            "Test 123  passed: True\n",
            "Test  123 passed: True\n",
            "Test 0b1010 passed: True\n",
            "Test +123 passed: True\n",
            "Test -123 passed: True\n",
            "Test 0B1010 passed: True\n",
            "Test 0b12 passed: True\n",
            "Test -0x123 passed: True\n",
            "Test -0o123 passed: True\n",
            "Test -0123 passed: True\n",
            "Test '123\\n' passed: True\n",
            "Test '\\n123' passed: True\n",
            "Test -0b1010 passed: True\n",
            "Test 0xDEADbeef passed: True\n",
            "Test 0X123 passed: True\n",
            "Test 0O123 passed: True\n",
            "Test 0o18 passed: True\n"
          ]
        }
      ],
      "source": [
        "print(f\"Test 123 passed: {to_integer('123') == 123}\")\n",
        "print(f\"Test 0x123 passed: {to_integer('0x123') == 0x123}\")\n",
        "print(f\"Test 0o123 passed: {to_integer('0o123') == 0o123}\")\n",
        "print(f\"Test 0123 passed: {to_integer('0123') == 123}\")\n",
        "print(f\"Test 123  passed: {to_integer('123 ') == None}\")\n",
        "print(f\"Test  123 passed: {to_integer(' 123') == None}\")\n",
        "print(f\"Test 0b1010 passed: {to_integer('0b1010') == 0b1010}\")\n",
        "print(f\"Test +123 passed: {to_integer('+123') == 123}\")\n",
        "print(f\"Test -123 passed: {to_integer('-123') == -123}\")\n",
        "print(f\"Test 0B1010 passed: {to_integer('0B1010') == None}\")\n",
        "print(f\"Test 0b12 passed: {to_integer('0b12') == None}\")\n",
        "print(f\"Test -0x123 passed: {to_integer('-0x123') == -0x123}\")\n",
        "print(f\"Test -0o123 passed: {to_integer('-0o123') == -0o123}\")\n",
        "print(f\"Test -0123 passed: {to_integer('-0123') == -123}\")\n",
        "test = \"123\\n\"\n",
        "print(f\"Test {repr(test)} passed: {to_integer(test) == None}\")\n",
        "test = \"\\n123\"\n",
        "print(f\"Test {repr(test)} passed: {to_integer(test) == None}\")\n",
        "print(f\"Test -0b1010 passed: {to_integer('-0b1010') == -0b1010}\")\n",
        "print(f\"Test 0xDEADbeef passed: {to_integer('0xDEADbeef') == 0xDEADBEEF}\")\n",
        "print(f\"Test 0X123 passed: {to_integer('0X123') == None}\")\n",
        "print(f\"Test 0O123 passed: {to_integer('0O123') == None}\")\n",
        "print(f\"Test 0o18 passed: {to_integer('0o18') == None}\")"
      ]
    },
    {
      "cell_type": "markdown",
      "metadata": {
        "id": "zYhf492mEgsC"
      },
      "source": [
        "## Ejercicio XPaths"
      ]
    },
    {
      "cell_type": "markdown",
      "metadata": {
        "id": "LM40ilrdEpFZ"
      },
      "source": [
        "Este ejercicio consta de extraer datos de un .html (adjuntado en el mail) utilizando [XPaths](https://www.w3schools.com/xml/xpath_intro.asp)\n",
        "\n",
        "Se pide:\n",
        "* Extraer la cantidad de resultados de la búsqueda\n",
        "* Contar la cantidad de links que hay en total\n",
        "* Contar cuántas imágenes hay en el recuadro superior de la derecha (sólo las que están arriba del nombre)\n",
        "* Imprimir los títulos de cada resultado, utilizando la función `clean_title` ya definida (no la modifiques!)"
      ]
    },
    {
      "cell_type": "code",
      "execution_count": null,
      "metadata": {
        "colab": {
          "base_uri": "https://localhost:8080/",
          "height": 286,
          "resources": {
            "http://localhost:8080/nbextensions/google.colab/files.js": {
              "data": "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",
              "headers": [
                [
                  "content-type",
                  "application/javascript"
                ]
              ],
              "ok": true,
              "status": 200,
              "status_text": ""
            }
          }
        },
        "id": "g67Rie9lLY77",
        "outputId": "93f51d98-716d-4d55-b44d-52a3602dc974"
      },
      "outputs": [],
      "source": [
        "def clean_title(title):\n",
        "  new_title = title.split('|')[0]\n",
        "  new_title = new_title.split('-')[0]\n",
        "  return new_title\n",
        "\n",
        "from google.colab import files\n",
        "import io\n",
        "\n",
        "print(\"Subir el archivo google.html\\n\")\n",
        "uploaded = files.upload()\n",
        "html_file = io.BytesIO(uploaded['google.html'])\n",
        "\n",
        "from bs4 import BeautifulSoup"
      ]
    },
    {
      "cell_type": "code",
      "execution_count": 186,
      "metadata": {
        "colab": {
          "base_uri": "https://localhost:8080/"
        },
        "id": "ZJYbRyQuNh_r",
        "outputId": "cf663ef0-de26-4d64-fe66-6554ba38096a"
      },
      "outputs": [
        {
          "name": "stdout",
          "output_type": "stream",
          "text": [
            "la busqueda devolvio un total de 10 resultados.\n"
          ]
        }
      ],
      "source": [
        "#Extraer la cantidad de resultados de la búsqueda\n",
        "soup = BeautifulSoup(html_file.getvalue(), 'html.parser')\n",
        "\n",
        "results = soup.find_all('div', class_='cbphWd')\n",
        "results[0].text\n",
        "\n",
        "titulos = []\n",
        "\n",
        "\n",
        "\n",
        "#resultados busqueda\n",
        "for div in soup.find_all('div', class_='hlcw0c'):\n",
        "  for result in div.find_all('h3', class_='LC20lb DKV0Md'):\n",
        "    titulos.append(result.text)\n",
        "\n",
        "#anuncios de la busqueda\n",
        "results = soup.find_all('div', class_='qGXjvb') \n",
        "for result in results:\n",
        "  title = result.find('div', class_='cfxYMc JfZTW c4Djg MUxGbd v0nnCb')\n",
        "  titulos.append(title.text)\n",
        "\n",
        "print('La busqueda devolvio un total de', len(titulos), 'resultados.')"
      ]
    },
    {
      "cell_type": "code",
      "execution_count": 182,
      "metadata": {
        "colab": {
          "base_uri": "https://localhost:8080/"
        },
        "id": "_Vp0Z310S-LA",
        "outputId": "9de0a5fd-cdbf-4cdc-d539-e49845a367e2"
      },
      "outputs": [
        {
          "name": "stdout",
          "output_type": "stream",
          "text": [
            "Hay un total de 11 links\n"
          ]
        }
      ],
      "source": [
        "#Contar la cantidad de links que hay en total\n",
        "links = []\n",
        "\n",
        "results = soup.find_all('div', class_='yuRUbf')\n",
        "for result in results:\n",
        "  links.append(result.a['href'])\n",
        "\n",
        "print('Hay un total de', len(set(links)), 'links')"
      ]
    },
    {
      "cell_type": "code",
      "execution_count": 208,
      "metadata": {
        "colab": {
          "base_uri": "https://localhost:8080/"
        },
        "id": "wP0JrGVmo7Dp",
        "outputId": "b6faaa61-cee7-4c7a-f5e7-e3a1b3942eec"
      },
      "outputs": [
        {
          "name": "stdout",
          "output_type": "stream",
          "text": [
            "hay 8 imagenes\n"
          ]
        }
      ],
      "source": [
        "#Contar cuántas imágenes hay en el recuadro superior de la derecha (sólo las que están arriba del nombre)\n",
        "\n",
        "results = soup.find('div', class_='sATSHe')\n",
        "a = results.find_all('div', class_='eA0Zlc ivg-i PtaMgb PZPZlf')\n",
        "print('Hay', len(a), 'imagenes') \n",
        "\n",
        "#Hay una imagen que esta oculta y no aparece"
      ]
    },
    {
      "cell_type": "code",
      "execution_count": 203,
      "metadata": {
        "colab": {
          "base_uri": "https://localhost:8080/"
        },
        "id": "Ua30tC3CZmbc",
        "outputId": "06fc266c-b5cf-41ea-c498-924438e5303c"
      },
      "outputs": [
        {
          "data": {
            "text/plain": [
              "['Ada Lovelace ',\n",
              " 'Ada Lovelace: la primera programadora ',\n",
              " 'Ada Byron: Condesa de Lovelace (1815',\n",
              " 'Biografía de Ada Lovelace ',\n",
              " 'Así fue como Ada Lovelace ayudó a crear la informática ...',\n",
              " 'Ada Lovelace: Mujeres de la Ciencia en EL PAÍS',\n",
              " 'Ada Lovelace, la visionaria hija de Lord Byron',\n",
              " 'Ada Lovelace, la matemática que allanó el camino para la ...',\n",
              " 'ADA BYRON',\n",
              " 'Ada Lovelace ']"
            ]
          },
          "execution_count": 203,
          "metadata": {},
          "output_type": "execute_result"
        }
      ],
      "source": [
        "#Imprimir los títulos de cada resultado, utilizando la función clean_title ya definida (no la modifiques!)\n",
        "\n",
        "titulos_limpios = map(clean_title, titulos)\n",
        "list(titulos_limpios)"
      ]
    },
    {
      "cell_type": "markdown",
      "metadata": {
        "id": "FzqNyq8k73YJ"
      },
      "source": [
        "## Ejercicio Pandas (opcional)"
      ]
    },
    {
      "cell_type": "markdown",
      "metadata": {
        "id": "WCHEvJQJ76sH"
      },
      "source": [
        "https://en.wikipedia.org/wiki/Pandas_(software)\n",
        "\n",
        "Este ejercico está enfocado en el uso de Pandas (una biblioteca muy usada de Python)\n",
        "Se tiene dos datasets (enviados por mail):\n",
        "* Uno contiene las órdenes hechas a un cierto restaurant. Tenemos los campos order_id, product_id y order_date. \n",
        "* El otro dataset es el maestro de productos de ese restaurant. Contiene product_id y name (nombre del producto)\n",
        "Se pide calcular:\n",
        "1. El nombre del producto más vendido en general\n",
        "2. El nombre del producto más vendido en cada mes\n",
        "3. Cantidad promedio de productos por orden (order_id) \n",
        "4. Opcional: Cualquier otra cosa que te dé curiosidad calcular :)\n",
        "\n",
        "Es requisito usar la librería **Pandas** para obtener las respuestas.\n"
      ]
    },
    {
      "cell_type": "markdown",
      "metadata": {
        "id": "IhkgvoHX-Nle"
      },
      "source": [
        "Ejecutá la celda de abajo para cargar los archivos y los dataframes\n"
      ]
    },
    {
      "cell_type": "code",
      "execution_count": null,
      "metadata": {
        "id": "SvYEv4wM76WS"
      },
      "outputs": [],
      "source": [
        "import pandas as pd\n",
        "from google.colab import files\n",
        "import io\n",
        "\n",
        "print(\"Subir el archivo orders_dataset.csv\\n\")\n",
        "uploaded = files.upload()\n",
        "df_orders = pd.read_csv(io.BytesIO(uploaded['orders_dataset.csv']))\n",
        "\n",
        "print(\"Subir el archivo product_names.csv\\n\")\n",
        "uploaded = files.upload()\n",
        "df_product_names = pd.read_csv(io.BytesIO(uploaded['product_names.csv']))"
      ]
    },
    {
      "cell_type": "code",
      "execution_count": 90,
      "metadata": {
        "colab": {
          "base_uri": "https://localhost:8080/",
          "height": 80
        },
        "id": "C72gcD2J9wzf",
        "outputId": "d33da661-49b7-41e4-d751-87eb61d4a586"
      },
      "outputs": [
        {
          "data": {
            "text/html": [
              "\n",
              "  <div id=\"df-8b858586-7d3b-4494-84bc-f79d8ec46bf5\">\n",
              "    <div class=\"colab-df-container\">\n",
              "      <div>\n",
              "<style scoped>\n",
              "    .dataframe tbody tr th:only-of-type {\n",
              "        vertical-align: middle;\n",
              "    }\n",
              "\n",
              "    .dataframe tbody tr th {\n",
              "        vertical-align: top;\n",
              "    }\n",
              "\n",
              "    .dataframe thead th {\n",
              "        text-align: right;\n",
              "    }\n",
              "</style>\n",
              "<table border=\"1\" class=\"dataframe\">\n",
              "  <thead>\n",
              "    <tr style=\"text-align: right;\">\n",
              "      <th></th>\n",
              "      <th>PRODUCT_ID</th>\n",
              "      <th>NAME</th>\n",
              "    </tr>\n",
              "  </thead>\n",
              "  <tbody>\n",
              "    <tr>\n",
              "      <th>54</th>\n",
              "      <td>952642</td>\n",
              "      <td>Cajita Feliz Hamburguesa</td>\n",
              "    </tr>\n",
              "  </tbody>\n",
              "</table>\n",
              "</div>\n",
              "      <button class=\"colab-df-convert\" onclick=\"convertToInteractive('df-8b858586-7d3b-4494-84bc-f79d8ec46bf5')\"\n",
              "              title=\"Convert this dataframe to an interactive table.\"\n",
              "              style=\"display:none;\">\n",
              "        \n",
              "  <svg xmlns=\"http://www.w3.org/2000/svg\" height=\"24px\"viewBox=\"0 0 24 24\"\n",
              "       width=\"24px\">\n",
              "    <path d=\"M0 0h24v24H0V0z\" fill=\"none\"/>\n",
              "    <path d=\"M18.56 5.44l.94 2.06.94-2.06 2.06-.94-2.06-.94-.94-2.06-.94 2.06-2.06.94zm-11 1L8.5 8.5l.94-2.06 2.06-.94-2.06-.94L8.5 2.5l-.94 2.06-2.06.94zm10 10l.94 2.06.94-2.06 2.06-.94-2.06-.94-.94-2.06-.94 2.06-2.06.94z\"/><path d=\"M17.41 7.96l-1.37-1.37c-.4-.4-.92-.59-1.43-.59-.52 0-1.04.2-1.43.59L10.3 9.45l-7.72 7.72c-.78.78-.78 2.05 0 2.83L4 21.41c.39.39.9.59 1.41.59.51 0 1.02-.2 1.41-.59l7.78-7.78 2.81-2.81c.8-.78.8-2.07 0-2.86zM5.41 20L4 18.59l7.72-7.72 1.47 1.35L5.41 20z\"/>\n",
              "  </svg>\n",
              "      </button>\n",
              "      \n",
              "  <style>\n",
              "    .colab-df-container {\n",
              "      display:flex;\n",
              "      flex-wrap:wrap;\n",
              "      gap: 12px;\n",
              "    }\n",
              "\n",
              "    .colab-df-convert {\n",
              "      background-color: #E8F0FE;\n",
              "      border: none;\n",
              "      border-radius: 50%;\n",
              "      cursor: pointer;\n",
              "      display: none;\n",
              "      fill: #1967D2;\n",
              "      height: 32px;\n",
              "      padding: 0 0 0 0;\n",
              "      width: 32px;\n",
              "    }\n",
              "\n",
              "    .colab-df-convert:hover {\n",
              "      background-color: #E2EBFA;\n",
              "      box-shadow: 0px 1px 2px rgba(60, 64, 67, 0.3), 0px 1px 3px 1px rgba(60, 64, 67, 0.15);\n",
              "      fill: #174EA6;\n",
              "    }\n",
              "\n",
              "    [theme=dark] .colab-df-convert {\n",
              "      background-color: #3B4455;\n",
              "      fill: #D2E3FC;\n",
              "    }\n",
              "\n",
              "    [theme=dark] .colab-df-convert:hover {\n",
              "      background-color: #434B5C;\n",
              "      box-shadow: 0px 1px 3px 1px rgba(0, 0, 0, 0.15);\n",
              "      filter: drop-shadow(0px 1px 2px rgba(0, 0, 0, 0.3));\n",
              "      fill: #FFFFFF;\n",
              "    }\n",
              "  </style>\n",
              "\n",
              "      <script>\n",
              "        const buttonEl =\n",
              "          document.querySelector('#df-8b858586-7d3b-4494-84bc-f79d8ec46bf5 button.colab-df-convert');\n",
              "        buttonEl.style.display =\n",
              "          google.colab.kernel.accessAllowed ? 'block' : 'none';\n",
              "\n",
              "        async function convertToInteractive(key) {\n",
              "          const element = document.querySelector('#df-8b858586-7d3b-4494-84bc-f79d8ec46bf5');\n",
              "          const dataTable =\n",
              "            await google.colab.kernel.invokeFunction('convertToInteractive',\n",
              "                                                     [key], {});\n",
              "          if (!dataTable) return;\n",
              "\n",
              "          const docLinkHtml = 'Like what you see? Visit the ' +\n",
              "            '<a target=\"_blank\" href=https://colab.research.google.com/notebooks/data_table.ipynb>data table notebook</a>'\n",
              "            + ' to learn more about interactive tables.';\n",
              "          element.innerHTML = '';\n",
              "          dataTable['output_type'] = 'display_data';\n",
              "          await google.colab.output.renderOutput(dataTable, element);\n",
              "          const docLink = document.createElement('div');\n",
              "          docLink.innerHTML = docLinkHtml;\n",
              "          element.appendChild(docLink);\n",
              "        }\n",
              "      </script>\n",
              "    </div>\n",
              "  </div>\n",
              "  "
            ],
            "text/plain": [
              "    PRODUCT_ID                       NAME\n",
              "54      952642  Cajita Feliz Hamburguesa "
            ]
          },
          "execution_count": 90,
          "metadata": {},
          "output_type": "execute_result"
        }
      ],
      "source": [
        "#1. El nombre del producto más vendido en general. 952642\n",
        "\n",
        "mas_vendido = df_orders.groupby(by='PRODUCT_ID')['PRODUCT_ID'].count().sort_values(ascending=False).index[0]\n",
        "\n",
        "df_product_names[df_product_names['PRODUCT_ID'] == mas_vendido]"
      ]
    },
    {
      "cell_type": "code",
      "execution_count": 99,
      "metadata": {
        "id": "Dx05RchDjePh"
      },
      "outputs": [],
      "source": [
        "#2. El nombre del producto más vendido en cada mes\n",
        "\n",
        "df_orders['ORDER_DATE'] = pd.to_datetime(df_orders['ORDER_DATE'])\n",
        "df_orders['MONTH'] = df_orders['ORDER_DATE'].dt.month\n",
        "\n",
        "grouped_orders = df_orders.pivot_table(index= ['MONTH', 'PRODUCT_ID'], values='ORDER_ID', aggfunc='count').reset_index()\n",
        "grouped_orders.rename(columns={'ORDER_ID':'COUNT'} ,inplace=True)\n",
        "\n",
        "def get_max(df, month):\n",
        "  max = df[df['MONTH']==month]['COUNT'].max()\n",
        "  return df[(df['MONTH']==month) & (df['COUNT'] == max)]"
      ]
    },
    {
      "cell_type": "code",
      "execution_count": 100,
      "metadata": {
        "colab": {
          "base_uri": "https://localhost:8080/",
          "height": 142
        },
        "id": "eNo3NyyQYzEa",
        "outputId": "d0222698-a647-462a-e80e-af69b272d4c1"
      },
      "outputs": [
        {
          "data": {
            "text/html": [
              "\n",
              "  <div id=\"df-d75f08e7-396b-4310-84a6-1bae89706403\">\n",
              "    <div class=\"colab-df-container\">\n",
              "      <div>\n",
              "<style scoped>\n",
              "    .dataframe tbody tr th:only-of-type {\n",
              "        vertical-align: middle;\n",
              "    }\n",
              "\n",
              "    .dataframe tbody tr th {\n",
              "        vertical-align: top;\n",
              "    }\n",
              "\n",
              "    .dataframe thead th {\n",
              "        text-align: right;\n",
              "    }\n",
              "</style>\n",
              "<table border=\"1\" class=\"dataframe\">\n",
              "  <thead>\n",
              "    <tr style=\"text-align: right;\">\n",
              "      <th></th>\n",
              "      <th>PRODUCT_ID</th>\n",
              "      <th>NAME</th>\n",
              "      <th>MONTH</th>\n",
              "      <th>COUNT</th>\n",
              "    </tr>\n",
              "  </thead>\n",
              "  <tbody>\n",
              "    <tr>\n",
              "      <th>0</th>\n",
              "      <td>952629</td>\n",
              "      <td>McCombo - McNuggets Mediano x 10</td>\n",
              "      <td>7</td>\n",
              "      <td>2</td>\n",
              "    </tr>\n",
              "    <tr>\n",
              "      <th>1</th>\n",
              "      <td>1437306</td>\n",
              "      <td>Sándwich Cuarto de Libra + Papas</td>\n",
              "      <td>7</td>\n",
              "      <td>2</td>\n",
              "    </tr>\n",
              "    <tr>\n",
              "      <th>2</th>\n",
              "      <td>1221551</td>\n",
              "      <td>McFlurry XXL Oreo</td>\n",
              "      <td>7</td>\n",
              "      <td>2</td>\n",
              "    </tr>\n",
              "  </tbody>\n",
              "</table>\n",
              "</div>\n",
              "      <button class=\"colab-df-convert\" onclick=\"convertToInteractive('df-d75f08e7-396b-4310-84a6-1bae89706403')\"\n",
              "              title=\"Convert this dataframe to an interactive table.\"\n",
              "              style=\"display:none;\">\n",
              "        \n",
              "  <svg xmlns=\"http://www.w3.org/2000/svg\" height=\"24px\"viewBox=\"0 0 24 24\"\n",
              "       width=\"24px\">\n",
              "    <path d=\"M0 0h24v24H0V0z\" fill=\"none\"/>\n",
              "    <path d=\"M18.56 5.44l.94 2.06.94-2.06 2.06-.94-2.06-.94-.94-2.06-.94 2.06-2.06.94zm-11 1L8.5 8.5l.94-2.06 2.06-.94-2.06-.94L8.5 2.5l-.94 2.06-2.06.94zm10 10l.94 2.06.94-2.06 2.06-.94-2.06-.94-.94-2.06-.94 2.06-2.06.94z\"/><path d=\"M17.41 7.96l-1.37-1.37c-.4-.4-.92-.59-1.43-.59-.52 0-1.04.2-1.43.59L10.3 9.45l-7.72 7.72c-.78.78-.78 2.05 0 2.83L4 21.41c.39.39.9.59 1.41.59.51 0 1.02-.2 1.41-.59l7.78-7.78 2.81-2.81c.8-.78.8-2.07 0-2.86zM5.41 20L4 18.59l7.72-7.72 1.47 1.35L5.41 20z\"/>\n",
              "  </svg>\n",
              "      </button>\n",
              "      \n",
              "  <style>\n",
              "    .colab-df-container {\n",
              "      display:flex;\n",
              "      flex-wrap:wrap;\n",
              "      gap: 12px;\n",
              "    }\n",
              "\n",
              "    .colab-df-convert {\n",
              "      background-color: #E8F0FE;\n",
              "      border: none;\n",
              "      border-radius: 50%;\n",
              "      cursor: pointer;\n",
              "      display: none;\n",
              "      fill: #1967D2;\n",
              "      height: 32px;\n",
              "      padding: 0 0 0 0;\n",
              "      width: 32px;\n",
              "    }\n",
              "\n",
              "    .colab-df-convert:hover {\n",
              "      background-color: #E2EBFA;\n",
              "      box-shadow: 0px 1px 2px rgba(60, 64, 67, 0.3), 0px 1px 3px 1px rgba(60, 64, 67, 0.15);\n",
              "      fill: #174EA6;\n",
              "    }\n",
              "\n",
              "    [theme=dark] .colab-df-convert {\n",
              "      background-color: #3B4455;\n",
              "      fill: #D2E3FC;\n",
              "    }\n",
              "\n",
              "    [theme=dark] .colab-df-convert:hover {\n",
              "      background-color: #434B5C;\n",
              "      box-shadow: 0px 1px 3px 1px rgba(0, 0, 0, 0.15);\n",
              "      filter: drop-shadow(0px 1px 2px rgba(0, 0, 0, 0.3));\n",
              "      fill: #FFFFFF;\n",
              "    }\n",
              "  </style>\n",
              "\n",
              "      <script>\n",
              "        const buttonEl =\n",
              "          document.querySelector('#df-d75f08e7-396b-4310-84a6-1bae89706403 button.colab-df-convert');\n",
              "        buttonEl.style.display =\n",
              "          google.colab.kernel.accessAllowed ? 'block' : 'none';\n",
              "\n",
              "        async function convertToInteractive(key) {\n",
              "          const element = document.querySelector('#df-d75f08e7-396b-4310-84a6-1bae89706403');\n",
              "          const dataTable =\n",
              "            await google.colab.kernel.invokeFunction('convertToInteractive',\n",
              "                                                     [key], {});\n",
              "          if (!dataTable) return;\n",
              "\n",
              "          const docLinkHtml = 'Like what you see? Visit the ' +\n",
              "            '<a target=\"_blank\" href=https://colab.research.google.com/notebooks/data_table.ipynb>data table notebook</a>'\n",
              "            + ' to learn more about interactive tables.';\n",
              "          element.innerHTML = '';\n",
              "          dataTable['output_type'] = 'display_data';\n",
              "          await google.colab.output.renderOutput(dataTable, element);\n",
              "          const docLink = document.createElement('div');\n",
              "          docLink.innerHTML = docLinkHtml;\n",
              "          element.appendChild(docLink);\n",
              "        }\n",
              "      </script>\n",
              "    </div>\n",
              "  </div>\n",
              "  "
            ],
            "text/plain": [
              "   PRODUCT_ID                              NAME  MONTH  COUNT\n",
              "0      952629  McCombo - McNuggets Mediano x 10      7      2\n",
              "1     1437306  Sándwich Cuarto de Libra + Papas      7      2\n",
              "2     1221551                 McFlurry XXL Oreo      7      2"
            ]
          },
          "execution_count": 100,
          "metadata": {},
          "output_type": "execute_result"
        }
      ],
      "source": [
        "df_product_names.merge(get_max(grouped_orders, 7))"
      ]
    },
    {
      "cell_type": "code",
      "execution_count": 101,
      "metadata": {
        "colab": {
          "base_uri": "https://localhost:8080/",
          "height": 80
        },
        "id": "6h3ApbYVYzx1",
        "outputId": "508869a9-33d1-4b6d-cc23-ebec98bdccb6"
      },
      "outputs": [
        {
          "data": {
            "text/html": [
              "\n",
              "  <div id=\"df-5b720843-2433-4f45-8367-921b5a5a5e7b\">\n",
              "    <div class=\"colab-df-container\">\n",
              "      <div>\n",
              "<style scoped>\n",
              "    .dataframe tbody tr th:only-of-type {\n",
              "        vertical-align: middle;\n",
              "    }\n",
              "\n",
              "    .dataframe tbody tr th {\n",
              "        vertical-align: top;\n",
              "    }\n",
              "\n",
              "    .dataframe thead th {\n",
              "        text-align: right;\n",
              "    }\n",
              "</style>\n",
              "<table border=\"1\" class=\"dataframe\">\n",
              "  <thead>\n",
              "    <tr style=\"text-align: right;\">\n",
              "      <th></th>\n",
              "      <th>PRODUCT_ID</th>\n",
              "      <th>NAME</th>\n",
              "      <th>MONTH</th>\n",
              "      <th>COUNT</th>\n",
              "    </tr>\n",
              "  </thead>\n",
              "  <tbody>\n",
              "    <tr>\n",
              "      <th>0</th>\n",
              "      <td>952642</td>\n",
              "      <td>Cajita Feliz Hamburguesa</td>\n",
              "      <td>8</td>\n",
              "      <td>32</td>\n",
              "    </tr>\n",
              "  </tbody>\n",
              "</table>\n",
              "</div>\n",
              "      <button class=\"colab-df-convert\" onclick=\"convertToInteractive('df-5b720843-2433-4f45-8367-921b5a5a5e7b')\"\n",
              "              title=\"Convert this dataframe to an interactive table.\"\n",
              "              style=\"display:none;\">\n",
              "        \n",
              "  <svg xmlns=\"http://www.w3.org/2000/svg\" height=\"24px\"viewBox=\"0 0 24 24\"\n",
              "       width=\"24px\">\n",
              "    <path d=\"M0 0h24v24H0V0z\" fill=\"none\"/>\n",
              "    <path d=\"M18.56 5.44l.94 2.06.94-2.06 2.06-.94-2.06-.94-.94-2.06-.94 2.06-2.06.94zm-11 1L8.5 8.5l.94-2.06 2.06-.94-2.06-.94L8.5 2.5l-.94 2.06-2.06.94zm10 10l.94 2.06.94-2.06 2.06-.94-2.06-.94-.94-2.06-.94 2.06-2.06.94z\"/><path d=\"M17.41 7.96l-1.37-1.37c-.4-.4-.92-.59-1.43-.59-.52 0-1.04.2-1.43.59L10.3 9.45l-7.72 7.72c-.78.78-.78 2.05 0 2.83L4 21.41c.39.39.9.59 1.41.59.51 0 1.02-.2 1.41-.59l7.78-7.78 2.81-2.81c.8-.78.8-2.07 0-2.86zM5.41 20L4 18.59l7.72-7.72 1.47 1.35L5.41 20z\"/>\n",
              "  </svg>\n",
              "      </button>\n",
              "      \n",
              "  <style>\n",
              "    .colab-df-container {\n",
              "      display:flex;\n",
              "      flex-wrap:wrap;\n",
              "      gap: 12px;\n",
              "    }\n",
              "\n",
              "    .colab-df-convert {\n",
              "      background-color: #E8F0FE;\n",
              "      border: none;\n",
              "      border-radius: 50%;\n",
              "      cursor: pointer;\n",
              "      display: none;\n",
              "      fill: #1967D2;\n",
              "      height: 32px;\n",
              "      padding: 0 0 0 0;\n",
              "      width: 32px;\n",
              "    }\n",
              "\n",
              "    .colab-df-convert:hover {\n",
              "      background-color: #E2EBFA;\n",
              "      box-shadow: 0px 1px 2px rgba(60, 64, 67, 0.3), 0px 1px 3px 1px rgba(60, 64, 67, 0.15);\n",
              "      fill: #174EA6;\n",
              "    }\n",
              "\n",
              "    [theme=dark] .colab-df-convert {\n",
              "      background-color: #3B4455;\n",
              "      fill: #D2E3FC;\n",
              "    }\n",
              "\n",
              "    [theme=dark] .colab-df-convert:hover {\n",
              "      background-color: #434B5C;\n",
              "      box-shadow: 0px 1px 3px 1px rgba(0, 0, 0, 0.15);\n",
              "      filter: drop-shadow(0px 1px 2px rgba(0, 0, 0, 0.3));\n",
              "      fill: #FFFFFF;\n",
              "    }\n",
              "  </style>\n",
              "\n",
              "      <script>\n",
              "        const buttonEl =\n",
              "          document.querySelector('#df-5b720843-2433-4f45-8367-921b5a5a5e7b button.colab-df-convert');\n",
              "        buttonEl.style.display =\n",
              "          google.colab.kernel.accessAllowed ? 'block' : 'none';\n",
              "\n",
              "        async function convertToInteractive(key) {\n",
              "          const element = document.querySelector('#df-5b720843-2433-4f45-8367-921b5a5a5e7b');\n",
              "          const dataTable =\n",
              "            await google.colab.kernel.invokeFunction('convertToInteractive',\n",
              "                                                     [key], {});\n",
              "          if (!dataTable) return;\n",
              "\n",
              "          const docLinkHtml = 'Like what you see? Visit the ' +\n",
              "            '<a target=\"_blank\" href=https://colab.research.google.com/notebooks/data_table.ipynb>data table notebook</a>'\n",
              "            + ' to learn more about interactive tables.';\n",
              "          element.innerHTML = '';\n",
              "          dataTable['output_type'] = 'display_data';\n",
              "          await google.colab.output.renderOutput(dataTable, element);\n",
              "          const docLink = document.createElement('div');\n",
              "          docLink.innerHTML = docLinkHtml;\n",
              "          element.appendChild(docLink);\n",
              "        }\n",
              "      </script>\n",
              "    </div>\n",
              "  </div>\n",
              "  "
            ],
            "text/plain": [
              "   PRODUCT_ID                       NAME  MONTH  COUNT\n",
              "0      952642  Cajita Feliz Hamburguesa       8     32"
            ]
          },
          "execution_count": 101,
          "metadata": {},
          "output_type": "execute_result"
        }
      ],
      "source": [
        "df_product_names.merge(get_max(grouped_orders, 8))"
      ]
    },
    {
      "cell_type": "code",
      "execution_count": 121,
      "metadata": {
        "colab": {
          "base_uri": "https://localhost:8080/"
        },
        "id": "CJUAKm1uZ5v-",
        "outputId": "651c51e6-59ff-4593-907c-2f4ef4bb96ad"
      },
      "outputs": [
        {
          "name": "stdout",
          "output_type": "stream",
          "text": [
            "Hay un promedio de 1.529 productos por orden\n"
          ]
        }
      ],
      "source": [
        "#3. Cantidad promedio de productos por orden (order_id)\n",
        "import numpy as np\n",
        "\n",
        "print('Hay un promedio de', round(np.mean(df_orders.groupby(by='ORDER_ID')['PRODUCT_ID'].count()), 3), 'productos por orden')"
      ]
    },
    {
      "cell_type": "code",
      "execution_count": 116,
      "metadata": {
        "colab": {
          "base_uri": "https://localhost:8080/",
          "height": 299
        },
        "id": "fGL8U-b5b3sX",
        "outputId": "ddec238f-a022-46df-8532-6a5073ff0998"
      },
      "outputs": [
        {
          "data": {
            "text/plain": [
              "<matplotlib.axes._subplots.AxesSubplot at 0x7f5b7e7c3050>"
            ]
          },
          "execution_count": 116,
          "metadata": {},
          "output_type": "execute_result"
        },
        {
          "data": {
            "image/png": "[encoded data removed]",
            "text/plain": [
              "<Figure size 432x288 with 1 Axes>"
            ]
          },
          "metadata": {
            "needs_background": "light"
          },
          "output_type": "display_data"
        }
      ],
      "source": [
        "#4. Ventas del mes de Agosto\n",
        "\n",
        "df_orders['ORDER_DATE'] = pd.to_datetime(df_orders['ORDER_DATE'])\n",
        "df_orders['DAY'] = df_orders['ORDER_DATE'].dt.day\n",
        "\n",
        "ventas_agosto = df_orders[df_orders['MONTH'] == 8]\n",
        "ventas_por_dia = ventas_agosto.groupby(['DAY', 'ORDER_ID']).count().reset_index().groupby('DAY')['ORDER_ID'].count()\n",
        "\n",
        "ventas_por_dia.plot.bar()"
      ]
    }
  ],
  "metadata": {
    "colab": {
      "collapsed_sections": [],
      "include_colab_link": true,
      "name": "Copia de Ejercicio Técnico 7Puentes.ipynb",
      "provenance": []
    },
    "kernelspec": {
      "display_name": "Python 3",
      "name": "python3"
    },
    "language_info": {
      "codemirror_mode": {
        "name": "ipython",
        "version": 3
      },
      "file_extension": ".py",
      "mimetype": "text/x-python",
      "name": "python",
      "nbconvert_exporter": "python",
      "pygments_lexer": "ipython3",
      "version": "3.10.3"
    }
  },
  "nbformat": 4,
  "nbformat_minor": 0
}
